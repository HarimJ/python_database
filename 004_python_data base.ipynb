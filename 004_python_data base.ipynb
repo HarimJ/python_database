{
 "cells": [
  {
   "cell_type": "markdown",
   "metadata": {},
   "source": [
    "# 2019.12.31"
   ]
  },
  {
   "cell_type": "code",
   "execution_count": null,
   "metadata": {},
   "outputs": [],
   "source": [
    "# linux : mariadb , 서버관리자\n",
    "- 서비스 제공을 제어 : systemctl\n",
    "    systemctl get-default : graphic mode ( GUI: graphic user interface ) (컴퓨터가 읽을땐 그래픽모드/ 사람은 텍스트 : 리눅스가 그걸 바꿔주는걸 한다)\n",
    "        : text mode() -  서버가 서비스를 제공\n",
    "- 보안 : firewall-cmd - firewall 방화벽\n",
    "- ip.port 포트번호는 막혀있음\n",
    "firewall-cmd --permanent -- zone-public --add-port=3306/tcp\n",
    "HeidiSQL :  원격으로 mariadb 접속 작업\n",
    "    \n",
    "vi편집기\n",
    "- 명령모드  ( esc키 - 커서가 있는 곳에서 누르고 dd는 삭제, yy는 복사, p눈 붙어넣기)\n",
    "- 입력모드 ( i <- insert, a <- append, o <- )\n",
    "- 마지막행 모드 ( :를 치고 w면 저장, q!면 저장하지 않고 종료 ->  :w , :q!)\n"
   ]
  },
  {
   "cell_type": "code",
   "execution_count": null,
   "metadata": {},
   "outputs": [],
   "source": [
    "virtualBox -  \n",
    "oracle - \n",
    "centOs - 서버용으로 제공되는 리눅스\n",
    "heidi - 마리아 디비를 원격으로 작업하기 위해서 필요 ( 마리아디비를 사용하기 위한 창)\n",
    "푸티  - 원격으로 리눅스 제어"
   ]
  },
  {
   "cell_type": "code",
   "execution_count": null,
   "metadata": {},
   "outputs": [],
   "source": [
    "유에스비에 oracle 담아서 (내보내기)\n",
    "집에서 virtual box 설치후 oracle 가져오기 하면 된다. \n",
    "\n",
    "\n",
    "\n",
    "- 리눅스 방식으로 오라클 설치후 (그래픽 설치되면) -> 꼭 '장치'에 '게스트 확장 CD 이미지 삽입' 을 해줘야 한다\n"
   ]
  },
  {
   "cell_type": "code",
   "execution_count": null,
   "metadata": {},
   "outputs": [],
   "source": [
    "# 명령어\n",
    "\n",
    "systemctl get-default  # 현재모드\n",
    "systemctl set-default multi-user.target  # 텍스트모드로 바뀜\n",
    "reboot   # 재부팅  -> 이걸 쓰면 로그인하는게 나온다\n",
    "ps -ef  # 현재 메모리에 실행되는 내용확인\n",
    "shutdown -h now   # 즉시 프로그램 종료\n",
    "cd : change directory \n",
    "mkdir : make directory\n",
    "rmdir : remove directory\n",
    "cd ~ : 루트 디렉터리\n",
    "cp : copy 복사\n",
    "rm : remove 파일 삭제\n",
    "find / -name test.txt - print  : name을 찾고 출력해라\n",
    "vi : 명령행모드, 입력모드, :실행명령\n",
    "        dd : 삭제, yy:복사, p:붙여넣기,\n",
    "        i:입력, a:append, o:\n",
    "        :q ->종료, w->저장, q! -> 저장하지 않고 종료\n",
    "yum :패키지 설치 : rpm을 래퍼\n",
    "        예) yum install maria-server\n",
    "\n",
    "systemctl   # 서비스를 제어\n",
    "firewall-cmd   # 방화벽\n",
    "systemctl start mariadb  \n",
    "systemctl stop mariadb \n",
    "systemctl restart mariadb  # 세팅이 변경\n",
    "ps -ef | grep httpd    # 웹서버가 실행중인지 확인  (역슬레시, grep는 검색해라 라는 명령어)\n",
    "\n",
    "# 꼭 shutdown -h now 로 끄거나 \n",
    "\n",
    "\n",
    "# 리눅스 기능 : 서버 관리하기 위해서 (text 모드로 작업)"
   ]
  },
  {
   "cell_type": "code",
   "execution_count": null,
   "metadata": {},
   "outputs": [],
   "source": [
    "# mariaddb\n",
    "- varchar : 문자형\n",
    "- 길이에 나온 용량까지만 사용가능"
   ]
  },
  {
   "cell_type": "code",
   "execution_count": null,
   "metadata": {},
   "outputs": [],
   "source": []
  }
 ],
 "metadata": {
  "kernelspec": {
   "display_name": "Python 3",
   "language": "python",
   "name": "python3"
  },
  "language_info": {
   "codemirror_mode": {
    "name": "ipython",
    "version": 3
   },
   "file_extension": ".py",
   "mimetype": "text/x-python",
   "name": "python",
   "nbconvert_exporter": "python",
   "pygments_lexer": "ipython3",
   "version": "3.7.4"
  }
 },
 "nbformat": 4,
 "nbformat_minor": 2
}
