{
 "cells": [
  {
   "cell_type": "code",
   "execution_count": null,
   "metadata": {},
   "outputs": [],
   "source": [
    "# 편집모드와 명령행모드 (주석)"
   ]
  },
  {
   "cell_type": "code",
   "execution_count": 14,
   "metadata": {},
   "outputs": [
    {
     "name": "stdout",
     "output_type": "stream",
     "text": [
      "10\n",
      "10\n"
     ]
    }
   ],
   "source": [
    "a = 10   # 주소 => 값저장 (맵 핑)\n",
    "b = a    # 10이 대입되는 것이 아니고 a가 가리키는 주소가 대입\n",
    "print(a)\n",
    "print(b)"
   ]
  },
  {
   "cell_type": "code",
   "execution_count": 15,
   "metadata": {},
   "outputs": [
    {
     "name": "stdout",
     "output_type": "stream",
     "text": [
      "주소값 대입 140718884364976\n",
      "140718884364976\n"
     ]
    },
    {
     "data": {
      "text/plain": [
       "(None, None)"
      ]
     },
     "execution_count": 15,
     "metadata": {},
     "output_type": "execute_result"
    }
   ],
   "source": [
    "# 주소값 일치\n",
    "print(\"주소값 대입\", id(a)), print(id(b))"
   ]
  },
  {
   "cell_type": "code",
   "execution_count": 17,
   "metadata": {},
   "outputs": [
    {
     "name": "stdout",
     "output_type": "stream",
     "text": [
      "20\n",
      "10\n",
      "주소값 대입 140718884365296\n",
      "140718884364976\n"
     ]
    },
    {
     "data": {
      "text/plain": [
       "(None, None)"
      ]
     },
     "execution_count": 17,
     "metadata": {},
     "output_type": "execute_result"
    }
   ],
   "source": [
    "a = 20  \n",
    "  \n",
    "print(a)\n",
    "print(b)\n",
    "print(\"주소값 대입\", id(a)), print(id(b))"
   ]
  },
  {
   "cell_type": "code",
   "execution_count": null,
   "metadata": {},
   "outputs": [],
   "source": [
    "# 파이썬은 대소문자를 구분한다."
   ]
  },
  {
   "cell_type": "code",
   "execution_count": 18,
   "metadata": {},
   "outputs": [
    {
     "data": {
      "text/plain": [
       "int"
      ]
     },
     "execution_count": 18,
     "metadata": {},
     "output_type": "execute_result"
    }
   ],
   "source": [
    "type(a)"
   ]
  },
  {
   "cell_type": "code",
   "execution_count": 20,
   "metadata": {},
   "outputs": [
    {
     "name": "stdout",
     "output_type": "stream",
     "text": [
      "10\n"
     ]
    }
   ],
   "source": [
    "a = 10\n",
    "A = 20\n",
    "print(a)"
   ]
  },
  {
   "cell_type": "code",
   "execution_count": 3,
   "metadata": {
    "scrolled": true
   },
   "outputs": [
    {
     "name": "stdout",
     "output_type": "stream",
     "text": [
      "수식을 입력하시오10\n",
      "10\n",
      "10\n",
      "10\n"
     ]
    }
   ],
   "source": [
    "# 데이터를 입력 : 프롬프트 텍스트\n",
    "problem = input(\"수식을 입력하시오\") # 데이터 입출력은 문자열로 입출력됨 - 수시로 데이터를 받으려고 input을 사용\n",
    "# 연산을 위해 데이터 타입을 숫자로 변경\n",
    "print(problem)\n",
    "print(int(problem)) # 데이터  casting : 데이터 형 변환  <- 위에 인풋에 뭘 넣든 문자형으로 받아서, 꼭 이 함수로 숫자로 변경해줘야 연산가능\n",
    "                    # int는 꼭 숫자만 넣어햐 함. + 같은 연산자를 넣으면 error\n",
    "print(eval(problem)) # 평가 - eval은 연산자가 있어도 값을 내준다."
   ]
  },
  {
   "cell_type": "code",
   "execution_count": 5,
   "metadata": {},
   "outputs": [
    {
     "name": "stdout",
     "output_type": "stream",
     "text": [
      "0.00424\n",
      "127\n"
     ]
    }
   ],
   "source": [
    "a3 = 4.24e-3  # exponent 지수형\n",
    "a4 = 0o177    # octal 8진수로 표현\n",
    "print(a3)\n",
    "print(a4)"
   ]
  },
  {
   "cell_type": "code",
   "execution_count": 9,
   "metadata": {},
   "outputs": [
    {
     "name": "stdout",
     "output_type": "stream",
     "text": [
      "이름을 입력하시오: 장 하림\n",
      "장\n",
      " \n",
      "하\n",
      "1\n",
      "이름: 하림\n",
      "성(s): 장\n"
     ]
    }
   ],
   "source": [
    "# fullName  문자열 : 기본이 1차원 배열, 숫자 int: 4바이트, float 4바이트, 문자열은 지정할 수 없어서 배열로 만든다. \n",
    "fullName = input(\"이름을 입력하시오: \")\n",
    "n = fullName.rfind(\" \")   # r : reverse - 뒤에서부터 찾아라 \n",
    "\n",
    "print(fullName[0])  # 배열과 리스트의 인덱싱은 동일하다.  python에서는 0부터 시작한다. (R은 1부터 시작)\n",
    "print(fullName[1])  # 띄어썼어서 공백으로 출력\n",
    "print(fullName[2])\n",
    "print(n) \n",
    "print(\"이름:\", fullName[n+1:])   # :  list indexing(끝까지)  - n+1 부터 끝까지\n",
    "print(\"성(s):\", fullName[:n])     # :  -> 처음부터 n까지\n",
    "# 0부터 시작하기때문에 마지막은 출력이 안된다?? 예시) 2:10 하면 2부터 9까지 출력된다. "
   ]
  },
  {
   "cell_type": "code",
   "execution_count": 11,
   "metadata": {},
   "outputs": [
    {
     "name": "stdout",
     "output_type": "stream",
     "text": [
      "koreakorea\n",
      "koreakoreakorea\n",
      "korea\n",
      "a\n",
      "a\n",
      "or\n",
      "ea\n",
      "ea\n",
      "e\n",
      "5\n"
     ]
    },
    {
     "data": {
      "text/plain": [
       "['ko', 'ea']"
      ]
     },
     "execution_count": 11,
     "metadata": {},
     "output_type": "execute_result"
    }
   ],
   "source": [
    "# 문자열은 \"single quotation\", \"korea\" : double quotation  (''나 \"\" 둘다 오케이)\n",
    "# \"\"\" \"\"\" : 3개인 경우는 입력하는 대로 저장함 - 설명할때 3개\n",
    "s = 'korea'\n",
    "print(s+s)     # koreakorea\n",
    "print(s*3)     # 횟수지정\n",
    "print(s[0:])   # 0부터 끝까지\n",
    "print(s[4]) \n",
    "print(s[-1])    # R에선 - 가 제외 /// 파이썬에서는 뒤로(거꾸로) 간다. \n",
    "print(s[1:3])   # 끛은 제외\n",
    "print(s[-2:])\n",
    "print(s[-2:5])\n",
    "print(s[3:-1])\n",
    "print(len(s))   # length : 5개\n",
    "s.split('r')"
   ]
  },
  {
   "cell_type": "code",
   "execution_count": 13,
   "metadata": {},
   "outputs": [
    {
     "name": "stdout",
     "output_type": "stream",
     "text": [
      "['Seoul', ' Incheon', ' won']\n"
     ]
    }
   ],
   "source": [
    "# csv데이터 : comma로 분리된 데이터\n",
    "t = 'Seoul, Incheon, won' .split(',')  # <- .split 처럼 따로 지정하지 않고 바로 함수 사용..,.?? (이게 객체라서 그렇대..이미 함수가 만들어짐)\n",
    "print(t)  # 리스트로 분할 //  , 를 중심으로 따로 나온다. split(',') 컴마를 줬으니까"
   ]
  },
  {
   "cell_type": "code",
   "execution_count": 15,
   "metadata": {},
   "outputs": [
    {
     "data": {
      "text/plain": [
       "'Seoul, Incheon, won'"
      ]
     },
     "execution_count": 15,
     "metadata": {},
     "output_type": "execute_result"
    }
   ],
   "source": [
    "# ,로 다시 합친다\n",
    "','.join(t)"
   ]
  },
  {
   "cell_type": "code",
   "execution_count": 19,
   "metadata": {},
   "outputs": [
    {
     "name": "stdout",
     "output_type": "stream",
     "text": [
      "Korea\n",
      "2\n",
      "1\n",
      "True\n",
      "False\n",
      "True\n",
      "koRea\n",
      "False\n",
      "True\n"
     ]
    }
   ],
   "source": [
    "# 파이썬은 객체 지향 츠로그래밍으로 설계된 언이임 : 모든 것이 객체임, 함수도 객체임\n",
    "# c, java 는 객체지향을 별도로 학습\n",
    "# python은 자체가 객체지향언어임\n",
    "s = 'korea'\n",
    "print(s.capitalize())   # 첫자가 대문자\n",
    "print(s.find('r'))      # r 의 위치를 찾기\n",
    "print(s.count('re'))    # re 가 몇번나오나? \n",
    "print(s.isalpha())\n",
    "print(s.isdigit())\n",
    "print('0123'.isdigit())\n",
    "print(s.replace('r','R'))   # 많이 쓰는 것!! -> 바꿔주기\n",
    "print(s.startswith('K'))    # K 로 시작하나? \n",
    "print(s.endswith('a'))      # a 로 끝나는가? "
   ]
  },
  {
   "cell_type": "code",
   "execution_count": 23,
   "metadata": {},
   "outputs": [
    {
     "name": "stdout",
     "output_type": "stream",
     "text": [
      "7 -1 12 0.75\n",
      "0.75\n",
      "3\n",
      "1\n",
      "0\n",
      "1\n",
      "0\n",
      "3.5\n",
      "1\n"
     ]
    }
   ],
   "source": [
    "# 산술연산\n",
    "a = 3\n",
    "b = 4\n",
    "\n",
    "print(a + b, a - b, a * b, a / b)\n",
    "print(a / b)\n",
    "print(a % b)  # 나머지 연산자 : 경우의 수를 생성할 때 : 변수가 가질 수 있는 경우의 수를 확인\n",
    "print(1 % 2)\n",
    "print(2 % 2)\n",
    "print(3 % 2)\n",
    "print(4 % 2)\n",
    "\n",
    "print(7 / 2)\n",
    "print(7 // 4)  # 몫 연산자 - 4가 7에 한번 들어간다"
   ]
  },
  {
   "cell_type": "code",
   "execution_count": 27,
   "metadata": {},
   "outputs": [
    {
     "name": "stdout",
     "output_type": "stream",
     "text": [
      "sum([1,2,3]) :  6\n",
      "sum([1,2,3]) :  1\n",
      "abs(-11) :  11\n",
      "pow(2,10) :  1024\n",
      "round(3.141595):  3\n",
      "round(3.141595):  3.14\n"
     ]
    }
   ],
   "source": [
    "# 내장함수 : \n",
    "# 괄호 : []:list, {}:dict & set , ():tuple, 함수에서 사용\n",
    "print(\"sum([1,2,3]) : \", sum([1,2,3]))\n",
    "print(\"sum([1,2,3]) : \", min([1,2,3]))\n",
    "print(\"abs(-11) : \", abs(-11))      # 절댓값\n",
    "print(\"pow(2,10) : \", pow(2,10))    # power : 승\n",
    "print(\"round(3.141595): \", round(3.141592))     # 반올림  <- 여기서 디폴트 매개변수 마지막에 ',0' 이 생략\n",
    "print(\"round(3.141595): \", round(3.141592, 2))  # 2째자리까지 표현해라 \n",
    "# 함수의 형태가 다르면 : 오버로딩\n",
    "# 파이썬 오버로딩이 없음 => 디폴트 매개변수"
   ]
  },
  {
   "cell_type": "code",
   "execution_count": 30,
   "metadata": {},
   "outputs": [
    {
     "name": "stdout",
     "output_type": "stream",
     "text": [
      "19\n"
     ]
    }
   ],
   "source": [
    "#  문제 : 숫자 4,7,8 을 리스트로 초기화하고 합계를 출력하시오\n",
    "\n",
    "li = [4,7,8]\n",
    "print(sum(li))"
   ]
  },
  {
   "cell_type": "code",
   "execution_count": 33,
   "metadata": {},
   "outputs": [
    {
     "name": "stdout",
     "output_type": "stream",
     "text": [
      "정수를 입력하시오 : 200\n",
      "정수를 입력하시오 : 100\n",
      "입력된 수를 2로 나눈 결과 몫 =  150 나머지 =  0\n",
      "짝수입니다. \n"
     ]
    }
   ],
   "source": [
    "#  문제 : 두 수를 입력받아 몫과 나머지를 출력하시오\n",
    "\n",
    "num1 = input(\"정수를 입력하시오 : \")\n",
    "num2 = input(\"정수를 입력하시오 : \")\n",
    "hab = int(num1) + int(num2)\n",
    "quotient = hab // 2\n",
    "remainder = hab % 2\n",
    "print(\"입력된 수를 2로 나눈 결과 몫 = \", quotient, \"나머지 = \", remainder)\n",
    "\n",
    "# 파이썬의 블록은 들여쓰기임 : 블록 : 여러일을 묶는 역할\n",
    "# : 은 조건문, 반복운, 함수\n",
    "if remainder == 0:\n",
    "    print(\"짝수입니다. \")\n",
    "else:\n",
    "    print(\"홀수입니다. \")"
   ]
  },
  {
   "cell_type": "markdown",
   "metadata": {},
   "source": [
    "# scope"
   ]
  },
  {
   "cell_type": "code",
   "execution_count": 36,
   "metadata": {},
   "outputs": [
    {
     "name": "stdout",
     "output_type": "stream",
     "text": [
      "200\n",
      "300\n"
     ]
    }
   ],
   "source": [
    "x = 300         # 전역변수 - 함수 밖에서 지정해서 변하지 않는다 \n",
    "def myfunc():  # 함수도 리턴타입을 지정하지 않음\n",
    " x = 200       # 지역변수 : 함수와 생사를 같이함 - 함수 안에서 지정했으니까 바뀐다\n",
    " print(x)\n",
    "myfunc()\n",
    "print(x)"
   ]
  },
  {
   "cell_type": "code",
   "execution_count": 38,
   "metadata": {},
   "outputs": [
    {
     "name": "stdout",
     "output_type": "stream",
     "text": [
      "정수를 입력하시오 : 4\n",
      "바위\n"
     ]
    }
   ],
   "source": [
    "# 어떤 수가 입력되어도 나머지가 0 : 가위, 1 : 바위, 2 : 보 로 출력하시오 \n",
    "\n",
    "select = int(input(\"정수를 입력하시오 : \")) % 3\n",
    "if select == 0:\n",
    "    print(\"가위\")\n",
    "elif select == 1:\n",
    "    print(\"바위\")\n",
    "elif select == 2:\n",
    "    print(\"보\")"
   ]
  },
  {
   "cell_type": "code",
   "execution_count": 42,
   "metadata": {},
   "outputs": [
    {
     "name": "stdout",
     "output_type": "stream",
     "text": [
      "4\n",
      "earths\n",
      "['fire', 'air']\n",
      "['air', 1, 'water', 'fire', 'earths']\n"
     ]
    }
   ],
   "source": [
    "# random : 프로그램에서 난수는 의사난수임 : 의사는수는 가짜수.  랜덤이라고 하지만 우리가 지정한 수를 나오게 하는.. 가짜? 수 \n",
    "import random      \n",
    "random.seed(1000)   # 시작점 고정 - 랜덤이긴한데 실행하면 항상 같은 값이 나온다.. 시작점이 고정된거니까 그 시작점의 값이 나오는것\n",
    "print(random.randint(1,5))\n",
    "elements = [\"earth\", 1, \"air\",\"fire\", \"water\"]  # 파이썬에서는 하나의 리스트에서 다른 형태의 데이터를 저장가능. 왜? 다 주소를 저장하는 거니까\n",
    "elements[0] = \"earths\"\n",
    "print(random.choice(elements))  # 하나 선택해서 뽑아내는 것 - 위에 랜덤시드를 설정해서 계속 랜덤이 같은 초이스로 나오는것. \n",
    "print(random.sample(elements, 2))\n",
    "random.shuffle(elements)\n",
    "print(elements)"
   ]
  },
  {
   "cell_type": "code",
   "execution_count": 45,
   "metadata": {},
   "outputs": [
    {
     "name": "stdout",
     "output_type": "stream",
     "text": [
      "True\n",
      "True\n"
     ]
    }
   ],
   "source": [
    "# 비교연산자(>=, <=, ==, <, >)와 논리 연산자(and, or, not)\n",
    "a = 20\n",
    "b = 10\n",
    "c = a > 10 and b < 50\n",
    "print(c)\n",
    "\n",
    "c = 10 < a < 50   # 파이썬에서는 꼭 and 로 묶지 않고도 이렇게 사용이 가능하다 \n",
    "print(c)"
   ]
  },
  {
   "cell_type": "code",
   "execution_count": 47,
   "metadata": {},
   "outputs": [
    {
     "name": "stdout",
     "output_type": "stream",
     "text": [
      "6 5\n"
     ]
    }
   ],
   "source": [
    "# swap\n",
    "x = 5\n",
    "y = 6\n",
    "x, y = y, x  # 리턴값이 2개 이상도 가능해서 이 문법이 가능 ( x,y 를 서로 바꿔줌 동시에!! )\n",
    "print(x, y)"
   ]
  },
  {
   "cell_type": "code",
   "execution_count": 51,
   "metadata": {},
   "outputs": [
    {
     "name": "stdout",
     "output_type": "stream",
     "text": [
      "[3, ['a', 'b', 'c'], 4]\n",
      "['a', 'b']\n",
      "1\n",
      "Life\n"
     ]
    }
   ],
   "source": [
    "# list 안의 list \n",
    "# a 에 저장된 것 : list 주소 . list 는 주소를 담아 논 항아리\n",
    "a = [1,2,3,['a','b','c'], 4, 5]\n",
    "print(a[2:5])\n",
    "print(a[3][:2])\n",
    "\n",
    "# 3차 리스트\n",
    "a = [1,2,['a','b',['Life', 'is']]]\n",
    "print(a[0])\n",
    "print(a[2][2][0])\n",
    "# 마지막 수는 제외"
   ]
  },
  {
   "cell_type": "code",
   "execution_count": 59,
   "metadata": {},
   "outputs": [
    {
     "name": "stdout",
     "output_type": "stream",
     "text": [
      "60\n",
      "[10, 20, 30, 40, 50]\n",
      "[10, 20, 30, 40, 50, 60]\n",
      "60\n",
      "[10, 20, 30, 40, 50]\n",
      "80\n",
      "[10, 20, 30, 40, 50, 70]\n"
     ]
    }
   ],
   "source": [
    "# 리스트(list)를 이용한 스택 ( stack ) - FILO (first in, last out) 복귀주소저장(함수의 운용)\n",
    "a = [10,20,30,40,50]\n",
    "a.append(60)     # 데이터룰 추가시 append 함수를 사용\n",
    "print(a.pop())   # 뒤에서 데이터를 가지고 오면서 삭제\n",
    "a.append(60)\n",
    "print(a.pop())\n",
    "print(a)\n",
    "a.append(70)\n",
    "a.append(80)\n",
    "print(a.pop())   # 위에 넣은수를 보여주고 삭제?\n",
    "print(a)"
   ]
  },
  {
   "cell_type": "code",
   "execution_count": 61,
   "metadata": {},
   "outputs": [
    {
     "name": "stdout",
     "output_type": "stream",
     "text": [
      "7 12\n",
      "7\n"
     ]
    },
    {
     "data": {
      "text/plain": [
       "(9, 20)"
      ]
     },
     "execution_count": 61,
     "metadata": {},
     "output_type": "execute_result"
    }
   ],
   "source": [
    "# 파이썬 함수 - 리턴값의 지정은 없음\n",
    "# define\n",
    "def calc(a,b):    # 함수의 역할 : 작업, 매개변수: 작업할 때 필요한 데이터\n",
    "    return a+b, a*b   # 리턴값 2개 \n",
    "x,y = calc(3,4)\n",
    "print(x,y)\n",
    "print(x)\n",
    "x,y\n",
    "args = (4,5)  # tuple이지만 args는 묶인걸 풀어준다 \n",
    "calc(*args)   # 포인터"
   ]
  },
  {
   "cell_type": "code",
   "execution_count": 95,
   "metadata": {},
   "outputs": [
    {
     "data": {
      "text/plain": [
       "dict_items([('one', 1), ('two', 2)])"
      ]
     },
     "execution_count": 95,
     "metadata": {},
     "output_type": "execute_result"
    }
   ],
   "source": [
    "# dictionary\n",
    "d = {'one':1, 'two':2}  # 키이 => 저장될 주소값으로 계산됨 - 검색에서 가장 속도가 빠르다 // one 이 키이고 1이 값\n",
    "d.items()  # 위에 얘들을 리스트? 방식으로 묶어서 보여줌 -  각각 컴마로 분리해서\n",
    "\n",
    "\n",
    "# mongodb => NOSQL ( 검색 빠르게 ) "
   ]
  },
  {
   "cell_type": "code",
   "execution_count": 101,
   "metadata": {},
   "outputs": [
    {
     "name": "stdout",
     "output_type": "stream",
     "text": [
      "2\n",
      "True\n",
      "1\n"
     ]
    },
    {
     "data": {
      "text/plain": [
       "['suwon', 'seoul', 'incheon']"
      ]
     },
     "execution_count": 101,
     "metadata": {},
     "output_type": "execute_result"
    }
   ],
   "source": [
    "cities = ['seoul', 'incheon','suwon']\n",
    "print(cities.index('suwon'))  # 수원이 몇번째?\n",
    "print('incheon' in cities)    # in 은 포함 연산자. 시티에 인청이 포함됐나?\n",
    "print(cities.count('seoul'))  # 시티에 서울이 몇개있나? \n",
    "sorted(cities)   # 오름차순이 디폴트\n",
    "sorted(cities, reverse = True)   # 리벌스해서 내림차순"
   ]
  },
  {
   "cell_type": "code",
   "execution_count": 102,
   "metadata": {},
   "outputs": [
    {
     "name": "stdout",
     "output_type": "stream",
     "text": [
      "['seoul', 'incheon', 'suwon']\n",
      "['seoul', 'incheon', 'suwon', 'busan']\n",
      "['daegu', 'seoul', 'incheon', 'suwon', 'busan']\n",
      "결합 ['daegu', 'seoul', 'incheon', 'suwon', 'busan', 'jeju', 'kwangju']\n",
      "['daegu', 'seoul', 'incheon', 'suwon', 'busan', ['daejun', 'ulsan']]\n",
      "['daegu', 'seoul', 'incheon', 'suwon', 'busan', ['daejun', 'ulsan'], 'jeju', 'kwangju']\n"
     ]
    }
   ],
   "source": [
    "# 리스트는 데이터 삽입 삭제가 용이\n",
    "print(cities)\n",
    "cities.append('busan')\n",
    "print(cities)\n",
    "cities.insert(0, 'daegu') # 데이터 삽입 - 0번째 삽입\n",
    "print(cities)\n",
    "other_cities = ['jeju','kwangju']\n",
    "print('결합', cities + other_cities)  # 리스트 + 연산자\n",
    "cities.append(['daejun', 'ulsan'])    # 모양이 유지가 됨 - append 는 리스트 자체로 삽입\n",
    "print(cities)\n",
    "cities.extend(['jeju', 'kwangju'])    # extend 는 리스트 말고 데이터? 로 삽입\n",
    "print(cities)"
   ]
  },
  {
   "cell_type": "code",
   "execution_count": 103,
   "metadata": {
    "scrolled": true
   },
   "outputs": [
    {
     "name": "stdout",
     "output_type": "stream",
     "text": [
      "['daejun', 'ulsan']\n",
      "ulsan\n",
      "['daegu', 'seoul', 'incheon', 'suwon', 'busan', ['daejun', 'jeju'], 'jeju', 'kwangju']\n"
     ]
    }
   ],
   "source": [
    "print(cities[5])\n",
    "print(cities[5][1])\n",
    "cities[5][1]= 'jeju'           # jeju로 바꾸기\n",
    "print(cities)"
   ]
  },
  {
   "cell_type": "code",
   "execution_count": 104,
   "metadata": {},
   "outputs": [
    {
     "name": "stdout",
     "output_type": "stream",
     "text": [
      "['daegu', 'seoul', 'incheon', 'suwon', 'busan', ['daejun'], 'jeju', 'kwangju']\n"
     ]
    }
   ],
   "source": [
    "# cities[5].remove(cities[5][1])\n",
    "\n",
    "del(cities[5][1])\n",
    "print(cities)"
   ]
  },
  {
   "cell_type": "code",
   "execution_count": null,
   "metadata": {},
   "outputs": [],
   "source": [
    "# 자료구조를 테이터 타입화  ( python core 에서 사용하는 자료구조 )\n",
    "\n",
    "# list : 데이터의 앞뒤에 다음이나 이전 데이터의 주소가 저장\n",
    "#      : 메모리를 효율적으로 사용하고 삽입 삭제를 용이하게 하기 위해서 사용하는 자료구조\n",
    "#      : 검색에서는 속도가 느림\n",
    "\n",
    "# dict : 키이 값이 데이터가 저장되어지는 주소값으로 계산되는 hash 함수를 이용해 데이터 저장, 검색속도가 빠름\n",
    "#      : 데이터는 주소값으로 변환되어지는 키이 : 데이터 형식으로 저장됨    \n",
    "\n",
    "# set : 키이만 저장 ( 중복불허 ) : 범주형 데이터의 종류를 확인 할 때 사용\n",
    "\n",
    "# tuple : list 와 동일한데 변경이 불가능함 ( 함수가 적음 ), 함수의 매개변수로 값을 전달하거나 여러개의 값을 리턴하고 싶을 때 사용\n",
    "#       : 속도가 빠름\n",
    "\n"
   ]
  },
  {
   "cell_type": "code",
   "execution_count": 106,
   "metadata": {},
   "outputs": [
    {
     "name": "stdout",
     "output_type": "stream",
     "text": [
      "점수입력 :  100\n",
      "A\n"
     ]
    }
   ],
   "source": [
    "print('점수입력 : ', end = ' ')   # end 는 \\n( 새 줄) 로 나오는걸 방지( 공백으로 )\n",
    "jumsu = int(input())\n",
    "if jumsu >= 90 : print('A')\n",
    "elif jumsu >= 80 : print('B')\n",
    "elif jumsu >= 70 : print('C')\n",
    "elif jumsu >= 60 : print('D')\n",
    "else : print('F')"
   ]
  },
  {
   "cell_type": "code",
   "execution_count": 2,
   "metadata": {},
   "outputs": [
    {
     "name": "stdout",
     "output_type": "stream",
     "text": [
      "색입력(BLUE or RED): blue\n",
      "mode 입력 (STEADY or FLASHING): steady\n",
      "예측된 날씨는 화창한 날  입니다\n"
     ]
    }
   ],
   "source": [
    "# 다음 표 ( color 와 mode에 따른 날씨 )를 if문을 이용하여 출력하시오\n",
    "#         ( 반응에 따른 날씨 예측 프로그램 )\n",
    "#                        BLUE           RED\n",
    "#     STEADY            화창            비오는날\n",
    "#     FLASHING          구름            눈오는날\n",
    "\n",
    "\n",
    "color = input(\"색입력(BLUE or RED): \")\n",
    "mode = input(\"mode 입력 (STEADY or FLASHING): \")\n",
    "color = color.upper()   # 소,대 문자 상관 없게 하려고 \n",
    "mode = mode.upper()\n",
    "result = \"\"\n",
    "if color == \"BLUE\":\n",
    "    if mode == \"STEADY\":\n",
    "        result = \"화창한 날\"\n",
    "    else:\n",
    "        result = \"구름 낀 날\"\n",
    "else:\n",
    "    if mode == \"STEADY\":\n",
    "        result = \"비오는 날\"\n",
    "    else:\n",
    "        result = \"눈오는 날\"\n",
    "print(\"예측된 날씨는\", result, \" 입니다\")"
   ]
  },
  {
   "cell_type": "code",
   "execution_count": null,
   "metadata": {},
   "outputs": [],
   "source": [
    "# for 문 : \n",
    "# 수입(revenue)과 지출(costs)을 입력받아 순수입을 출력하는 프로그램을 작성하시오\n",
    "#      - 제약조건 : 소수점 이하 2자리 까지 출력 (round)\n",
    "#            : 수입과 지출이 동일한 경우를 고려하시오( 손익분기점 )\n",
    "#            : 결과 출력시 경우에 따라 순수익, 순소실도 같이 출력하도록 하시오\n",
    "\n",
    "revenue = input()\n",
    "cost = input()\n",
    "\n",
    "def calc(re,b):    \n",
    "    return a-b   \n",
    "\n",
    "print(\"순수입은  \", round(return, 2))\n"
   ]
  }
 ],
 "metadata": {
  "kernelspec": {
   "display_name": "Python 3",
   "language": "python",
   "name": "python3"
  },
  "language_info": {
   "codemirror_mode": {
    "name": "ipython",
    "version": 3
   },
   "file_extension": ".py",
   "mimetype": "text/x-python",
   "name": "python",
   "nbconvert_exporter": "python",
   "pygments_lexer": "ipython3",
   "version": "3.7.4"
  }
 },
 "nbformat": 4,
 "nbformat_minor": 2
}
