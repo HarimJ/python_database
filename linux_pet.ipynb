{
 "cells": [
  {
   "cell_type": "markdown",
   "metadata": {},
   "source": [
    "# 2020.01.03"
   ]
  },
  {
   "cell_type": "markdown",
   "metadata": {},
   "source": [
    "# sql 작동시키기 "
   ]
  },
  {
   "cell_type": "code",
   "execution_count": 9,
   "metadata": {},
   "outputs": [
    {
     "name": "stdout",
     "output_type": "stream",
     "text": [
      "None\n"
     ]
    },
    {
     "data": {
      "text/plain": [
       "<bound method Connection.close of <pymysql.connections.Connection object at 0x000001F92C871F88>>"
      ]
     },
     "execution_count": 9,
     "metadata": {},
     "output_type": "execute_result"
    }
   ],
   "source": [
    "import pymysql\n",
    "conn = pymysql.connect(host='192.168.1.243',\n",
    "                      user='root', port=3306, password='big2019',db='acornschool',\n",
    "                       charset='utf8mb4', use_unicode=True,\n",
    "                       cursorclass=pymysql.cursors.DictCursor)\n",
    "\n",
    "cur = conn.cursor()    # cursor를 해줘야 내가 원하는 데이터를 가져다 가리키는 역할. \n",
    "\n",
    "# 테이블 만들기\n",
    "cur.execute(\"\"\"CREATE TABLE pet(\n",
    "           id INT NOT NULL AUTO_INCREMENT,\n",
    "           name VARCHAR(20),\n",
    "           owner VARCHAR(20),\n",
    "           species VARCHAR(20),\n",
    "           sex CHAR(1),\n",
    "           birth DATE, \n",
    "           death DATE,\n",
    "           PRIMARY KEY(id)) ENGINE=InnoDB AUTO_INCREMENT=1\"\"\")\n",
    "\n",
    "print(cur.description)\n",
    "conn.close     # 꼭 close 해줘야한다. "
   ]
  },
  {
   "cell_type": "markdown",
   "metadata": {},
   "source": [
    "# 데이터 입력"
   ]
  },
  {
   "cell_type": "code",
   "execution_count": 12,
   "metadata": {},
   "outputs": [
    {
     "name": "stdout",
     "output_type": "stream",
     "text": [
      "5\n"
     ]
    },
    {
     "data": {
      "text/plain": [
       "<bound method Connection.close of <pymysql.connections.Connection object at 0x000001F92C863548>>"
      ]
     },
     "execution_count": 12,
     "metadata": {},
     "output_type": "execute_result"
    }
   ],
   "source": [
    "conn = pymysql.connect(host='192.168.1.243',\n",
    "                      user='root', port=3306, password='big2019',db='acornschool',\n",
    "                       charset='utf8mb4', use_unicode=True,\n",
    "                       cursorclass=pymysql.cursors.DictCursor)\n",
    "\n",
    "cur = conn.cursor()\n",
    "\n",
    "sql = \"\"\"INSERT INTO pet (name, owner, species, sex, birth, death) VALUES (%s, %s,%s,%s,%s,%s)\"\"\"\n",
    "cur.execute(sql, ('유리','acorn','고양이','f','2014-1-1','2016-2-1'))\n",
    "cur.execute(sql, ('귀염','acorn','강아지','f','2014-3-1','2016-9-1'))\n",
    "cur.execute(sql, ('돌이','acorn','곰','f','2014-8-1','2016-2-1'))\n",
    "conn.commit()\n",
    "cur.executemany(     # DB :NULL -> Python:None\n",
    "                \"\"\"INSERT INTO pet( name,owner, species, sex, birth, death) VALUES (%s, %s,%s,%s,%s,%s)\"\"\",\n",
    "[('대한','민주','cat','f','2001-02-04', None),\n",
    "('민국','자유','cat','f','2010-03-17', None),\n",
    "('만세','민주','cat','f','2010-05-13', None),\n",
    "('하자','민주','cat','m','2015-08-27', None),\n",
    "('성공','자유','cat','m','2017-08-31', '2018-04-29')])\n",
    "conn.commit()\n",
    "print(cur.rowcount)  # 에러가 났는지 데이터가 들어갔는지 확인하기 -> rowcount\n",
    "conn.close"
   ]
  },
  {
   "cell_type": "markdown",
   "metadata": {},
   "source": [
    "# 데이터 가져오기"
   ]
  },
  {
   "cell_type": "code",
   "execution_count": 15,
   "metadata": {},
   "outputs": [
    {
     "name": "stdout",
     "output_type": "stream",
     "text": [
      "8\n",
      "{'id': 9, 'name': '대한', 'owner': '민주', 'species': 'cat', 'sex': 'f', 'birth': datetime.date(2001, 2, 4), 'death': None}\n",
      "{'id': 10, 'name': '민국', 'owner': '자유', 'species': 'cat', 'sex': 'f', 'birth': datetime.date(2010, 3, 17), 'death': None}\n",
      "{'id': 11, 'name': '만세', 'owner': '민주', 'species': 'cat', 'sex': 'f', 'birth': datetime.date(2010, 5, 13), 'death': None}\n",
      "{'id': 12, 'name': '하자', 'owner': '민주', 'species': 'cat', 'sex': 'm', 'birth': datetime.date(2015, 8, 27), 'death': None}\n",
      "{'id': 13, 'name': '성공', 'owner': '자유', 'species': 'cat', 'sex': 'm', 'birth': datetime.date(2017, 8, 31), 'death': datetime.date(2018, 4, 29)}\n"
     ]
    }
   ],
   "source": [
    "conn = pymysql.connect(host='192.168.1.243',\n",
    "                      user='root', port=3306, password='big2019',db='acornschool',\n",
    "                       charset='utf8mb4', use_unicode=True,\n",
    "                       cursorclass=pymysql.cursors.DictCursor)\n",
    "cur = conn.cursor()\n",
    "\n",
    "cur.execute('select * from pet')   # RecordSet 생성\n",
    "print(cur.rowcount)  # 8\n",
    "cur.description  # 설명\n",
    "\n",
    "cur.fetchone()  # 첫줄\n",
    "cur.fetchone()  # 두번째 줄\n",
    "cur.fetchone()  # 세번째 줄\n",
    "recs = cur.fetchmany(2)  # 다음 2개 \n",
    "for rec in recs:\n",
    "    print(rec)\n",
    "recs = cur.fetchall()    # 나머지 다 가져오기\n",
    "for rec in recs:\n",
    "    print(rec)\n",
    "    \n",
    "cur.close()\n",
    "conn.close()"
   ]
  },
  {
   "cell_type": "code",
   "execution_count": 22,
   "metadata": {},
   "outputs": [
    {
     "name": "stdout",
     "output_type": "stream",
     "text": [
      "ID=12, Name=하자, 주인=민주\n",
      "ID=13, Name=성공, 주인=자유\n",
      "0\n"
     ]
    }
   ],
   "source": [
    "# 문제 : 생일이 \n",
    "\n",
    "conn = pymysql.connect(host='192.168.1.243',\n",
    "                      user='root', port=3306, password='big2019',db='acornschool',\n",
    "                       charset='utf8mb4', use_unicode=True,\n",
    "                       cursorclass=pymysql.cursors.DictCursor)\n",
    "cur = conn.cursor()\n",
    "\n",
    "\n",
    "cur.execute(\"\"\"SELECT *FROM pet WHERE birth > '2015-01-01';\"\"\")\n",
    "row = cur.fetchall()\n",
    "for pet in row:\n",
    "    pet_val = list(pet.values())\n",
    "    print(\"ID=%d, Name=%s, 주인=%s\" % (pet_val[0],pet_val[1],pet_val[2]))\n"
   ]
  },
  {
   "cell_type": "code",
   "execution_count": 26,
   "metadata": {
    "collapsed": true
   },
   "outputs": [
    {
     "ename": "ProgrammingError",
     "evalue": "Cursor closed",
     "output_type": "error",
     "traceback": [
      "\u001b[1;31m---------------------------------------------------------------------------\u001b[0m",
      "\u001b[1;31mProgrammingError\u001b[0m                          Traceback (most recent call last)",
      "\u001b[1;32m<ipython-input-26-2f857aa47455>\u001b[0m in \u001b[0;36m<module>\u001b[1;34m\u001b[0m\n\u001b[0;32m      1\u001b[0m \u001b[1;31m# 문제 : 유리를 초심로 update 하시오\u001b[0m\u001b[1;33m\u001b[0m\u001b[1;33m\u001b[0m\u001b[1;33m\u001b[0m\u001b[0m\n\u001b[0;32m      2\u001b[0m \u001b[0msql\u001b[0m \u001b[1;33m=\u001b[0m \u001b[1;34m'update pet set name=%s where name = %s'\u001b[0m\u001b[1;33m\u001b[0m\u001b[1;33m\u001b[0m\u001b[0m\n\u001b[1;32m----> 3\u001b[1;33m \u001b[0mcur\u001b[0m\u001b[1;33m.\u001b[0m\u001b[0mexecute\u001b[0m\u001b[1;33m(\u001b[0m\u001b[0msql\u001b[0m\u001b[1;33m,\u001b[0m \u001b[1;33m(\u001b[0m\u001b[1;34m'초심'\u001b[0m\u001b[1;33m,\u001b[0m\u001b[1;34m'유리'\u001b[0m\u001b[1;33m)\u001b[0m\u001b[1;33m)\u001b[0m\u001b[1;33m\u001b[0m\u001b[1;33m\u001b[0m\u001b[0m\n\u001b[0m\u001b[0;32m      4\u001b[0m \u001b[0mconn\u001b[0m\u001b[1;33m.\u001b[0m\u001b[0mcommit\u001b[0m\u001b[1;33m(\u001b[0m\u001b[1;33m)\u001b[0m\u001b[1;33m\u001b[0m\u001b[1;33m\u001b[0m\u001b[0m\n\u001b[0;32m      5\u001b[0m \u001b[0mprint\u001b[0m\u001b[1;33m(\u001b[0m\u001b[0mcur\u001b[0m\u001b[1;33m.\u001b[0m\u001b[0mrowcount\u001b[0m\u001b[1;33m)\u001b[0m\u001b[1;33m\u001b[0m\u001b[1;33m\u001b[0m\u001b[0m\n",
      "\u001b[1;32m~\\Anaconda3\\lib\\site-packages\\pymysql\\cursors.py\u001b[0m in \u001b[0;36mexecute\u001b[1;34m(self, query, args)\u001b[0m\n\u001b[0;32m    163\u001b[0m         \u001b[0mIf\u001b[0m \u001b[0margs\u001b[0m \u001b[1;32mis\u001b[0m \u001b[0ma\u001b[0m \u001b[0mdict\u001b[0m\u001b[1;33m,\u001b[0m \u001b[1;33m%\u001b[0m\u001b[1;33m(\u001b[0m\u001b[0mname\u001b[0m\u001b[1;33m)\u001b[0m\u001b[0ms\u001b[0m \u001b[0mcan\u001b[0m \u001b[0mbe\u001b[0m \u001b[0mused\u001b[0m \u001b[1;32mas\u001b[0m \u001b[0ma\u001b[0m \u001b[0mplaceholder\u001b[0m \u001b[1;32min\u001b[0m \u001b[0mthe\u001b[0m \u001b[0mquery\u001b[0m\u001b[1;33m.\u001b[0m\u001b[1;33m\u001b[0m\u001b[1;33m\u001b[0m\u001b[0m\n\u001b[0;32m    164\u001b[0m         \"\"\"\n\u001b[1;32m--> 165\u001b[1;33m         \u001b[1;32mwhile\u001b[0m \u001b[0mself\u001b[0m\u001b[1;33m.\u001b[0m\u001b[0mnextset\u001b[0m\u001b[1;33m(\u001b[0m\u001b[1;33m)\u001b[0m\u001b[1;33m:\u001b[0m\u001b[1;33m\u001b[0m\u001b[1;33m\u001b[0m\u001b[0m\n\u001b[0m\u001b[0;32m    166\u001b[0m             \u001b[1;32mpass\u001b[0m\u001b[1;33m\u001b[0m\u001b[1;33m\u001b[0m\u001b[0m\n\u001b[0;32m    167\u001b[0m \u001b[1;33m\u001b[0m\u001b[0m\n",
      "\u001b[1;32m~\\Anaconda3\\lib\\site-packages\\pymysql\\cursors.py\u001b[0m in \u001b[0;36mnextset\u001b[1;34m(self)\u001b[0m\n\u001b[0;32m    105\u001b[0m \u001b[1;33m\u001b[0m\u001b[0m\n\u001b[0;32m    106\u001b[0m     \u001b[1;32mdef\u001b[0m \u001b[0mnextset\u001b[0m\u001b[1;33m(\u001b[0m\u001b[0mself\u001b[0m\u001b[1;33m)\u001b[0m\u001b[1;33m:\u001b[0m\u001b[1;33m\u001b[0m\u001b[1;33m\u001b[0m\u001b[0m\n\u001b[1;32m--> 107\u001b[1;33m         \u001b[1;32mreturn\u001b[0m \u001b[0mself\u001b[0m\u001b[1;33m.\u001b[0m\u001b[0m_nextset\u001b[0m\u001b[1;33m(\u001b[0m\u001b[1;32mFalse\u001b[0m\u001b[1;33m)\u001b[0m\u001b[1;33m\u001b[0m\u001b[1;33m\u001b[0m\u001b[0m\n\u001b[0m\u001b[0;32m    108\u001b[0m \u001b[1;33m\u001b[0m\u001b[0m\n\u001b[0;32m    109\u001b[0m     \u001b[1;32mdef\u001b[0m \u001b[0m_ensure_bytes\u001b[0m\u001b[1;33m(\u001b[0m\u001b[0mself\u001b[0m\u001b[1;33m,\u001b[0m \u001b[0mx\u001b[0m\u001b[1;33m,\u001b[0m \u001b[0mencoding\u001b[0m\u001b[1;33m=\u001b[0m\u001b[1;32mNone\u001b[0m\u001b[1;33m)\u001b[0m\u001b[1;33m:\u001b[0m\u001b[1;33m\u001b[0m\u001b[1;33m\u001b[0m\u001b[0m\n",
      "\u001b[1;32m~\\Anaconda3\\lib\\site-packages\\pymysql\\cursors.py\u001b[0m in \u001b[0;36m_nextset\u001b[1;34m(self, unbuffered)\u001b[0m\n\u001b[0;32m     89\u001b[0m     \u001b[1;32mdef\u001b[0m \u001b[0m_nextset\u001b[0m\u001b[1;33m(\u001b[0m\u001b[0mself\u001b[0m\u001b[1;33m,\u001b[0m \u001b[0munbuffered\u001b[0m\u001b[1;33m=\u001b[0m\u001b[1;32mFalse\u001b[0m\u001b[1;33m)\u001b[0m\u001b[1;33m:\u001b[0m\u001b[1;33m\u001b[0m\u001b[1;33m\u001b[0m\u001b[0m\n\u001b[0;32m     90\u001b[0m         \u001b[1;34m\"\"\"Get the next query set\"\"\"\u001b[0m\u001b[1;33m\u001b[0m\u001b[1;33m\u001b[0m\u001b[0m\n\u001b[1;32m---> 91\u001b[1;33m         \u001b[0mconn\u001b[0m \u001b[1;33m=\u001b[0m \u001b[0mself\u001b[0m\u001b[1;33m.\u001b[0m\u001b[0m_get_db\u001b[0m\u001b[1;33m(\u001b[0m\u001b[1;33m)\u001b[0m\u001b[1;33m\u001b[0m\u001b[1;33m\u001b[0m\u001b[0m\n\u001b[0m\u001b[0;32m     92\u001b[0m         \u001b[0mcurrent_result\u001b[0m \u001b[1;33m=\u001b[0m \u001b[0mself\u001b[0m\u001b[1;33m.\u001b[0m\u001b[0m_result\u001b[0m\u001b[1;33m\u001b[0m\u001b[1;33m\u001b[0m\u001b[0m\n\u001b[0;32m     93\u001b[0m         \u001b[1;31m# for unbuffered queries warnings are only available once whole result has been read\u001b[0m\u001b[1;33m\u001b[0m\u001b[1;33m\u001b[0m\u001b[1;33m\u001b[0m\u001b[0m\n",
      "\u001b[1;32m~\\Anaconda3\\lib\\site-packages\\pymysql\\cursors.py\u001b[0m in \u001b[0;36m_get_db\u001b[1;34m(self)\u001b[0m\n\u001b[0;32m     71\u001b[0m     \u001b[1;32mdef\u001b[0m \u001b[0m_get_db\u001b[0m\u001b[1;33m(\u001b[0m\u001b[0mself\u001b[0m\u001b[1;33m)\u001b[0m\u001b[1;33m:\u001b[0m\u001b[1;33m\u001b[0m\u001b[1;33m\u001b[0m\u001b[0m\n\u001b[0;32m     72\u001b[0m         \u001b[1;32mif\u001b[0m \u001b[1;32mnot\u001b[0m \u001b[0mself\u001b[0m\u001b[1;33m.\u001b[0m\u001b[0mconnection\u001b[0m\u001b[1;33m:\u001b[0m\u001b[1;33m\u001b[0m\u001b[1;33m\u001b[0m\u001b[0m\n\u001b[1;32m---> 73\u001b[1;33m             \u001b[1;32mraise\u001b[0m \u001b[0merr\u001b[0m\u001b[1;33m.\u001b[0m\u001b[0mProgrammingError\u001b[0m\u001b[1;33m(\u001b[0m\u001b[1;34m\"Cursor closed\"\u001b[0m\u001b[1;33m)\u001b[0m\u001b[1;33m\u001b[0m\u001b[1;33m\u001b[0m\u001b[0m\n\u001b[0m\u001b[0;32m     74\u001b[0m         \u001b[1;32mreturn\u001b[0m \u001b[0mself\u001b[0m\u001b[1;33m.\u001b[0m\u001b[0mconnection\u001b[0m\u001b[1;33m\u001b[0m\u001b[1;33m\u001b[0m\u001b[0m\n\u001b[0;32m     75\u001b[0m \u001b[1;33m\u001b[0m\u001b[0m\n",
      "\u001b[1;31mProgrammingError\u001b[0m: Cursor closed"
     ]
    }
   ],
   "source": [
    "# 문제 : 유리를 초심로 update 하시오    \n",
    "sql = 'update pet set name=%s where name = %s'\n",
    "cur.execute(sql, ('초심','유리'))\n",
    "conn.commit()\n",
    "print(cur.rowcount)\n",
    "\n",
    "# 항상 커서 오픈을 해야 작동한다. 그리고 끝낼때 클로즈를 해줘야한다. (위에, 밑에 스크립트에 열고, 닫아 줌)"
   ]
  },
  {
   "cell_type": "code",
   "execution_count": 25,
   "metadata": {},
   "outputs": [
    {
     "name": "stdout",
     "output_type": "stream",
     "text": [
      "0\n"
     ]
    }
   ],
   "source": [
    "# 문제 : 유리를 삭제하시오 ( 쿼리를 일반화 )\n",
    "sql='delete from pet where name=%s'\n",
    "cur.execute(sql,'초심')    # execute : 커리한테 명령을 줄때 사용\n",
    "conn.commit()\n",
    "print(cur.rowcount)\n",
    "\n",
    "cur.close()\n",
    "conn.close()"
   ]
  },
  {
   "cell_type": "code",
   "execution_count": 27,
   "metadata": {},
   "outputs": [
    {
     "name": "stdout",
     "output_type": "stream",
     "text": [
      "[{'id': 7, 'name': '귀염', 'owner': 'acorn', 'species': '강아지', 'sex': 'f', 'birth': datetime.date(2014, 3, 1), 'death': datetime.date(2016, 9, 1)}, {'id': 8, 'name': '돌이', 'owner': 'acorn', 'species': '곰', 'sex': 'f', 'birth': datetime.date(2014, 8, 1), 'death': datetime.date(2016, 2, 1)}, {'id': 9, 'name': '대한', 'owner': '민주', 'species': 'cat', 'sex': 'f', 'birth': datetime.date(2001, 2, 4), 'death': None}, {'id': 10, 'name': '민국', 'owner': '자유', 'species': 'cat', 'sex': 'f', 'birth': datetime.date(2010, 3, 17), 'death': None}, {'id': 11, 'name': '만세', 'owner': '민주', 'species': 'cat', 'sex': 'f', 'birth': datetime.date(2010, 5, 13), 'death': None}, {'id': 12, 'name': '하자', 'owner': '민주', 'species': 'cat', 'sex': 'm', 'birth': datetime.date(2015, 8, 27), 'death': None}, {'id': 13, 'name': '성공', 'owner': '자유', 'species': 'cat', 'sex': 'm', 'birth': datetime.date(2017, 8, 31), 'death': datetime.date(2018, 4, 29)}]\n"
     ]
    }
   ],
   "source": [
    "conn = pymysql.connect(host='192.168.1.243',\n",
    "                      user='root', port=3306, password='big2019',db='acornschool',\n",
    "                       charset='utf8mb4', use_unicode=True,\n",
    "                       cursorclass=pymysql.cursors.DictCursor)\n",
    "cur = conn.cursor()\n",
    "# 여기까지가 모두가 커서 열기\n",
    "\n",
    "\n",
    "cur.callproc('pet_select')\n",
    "if(cur.rowcount):\n",
    "    print(cur.fetchall())\n",
    "    \n",
    "# 밑에가 클로즈    \n",
    "cur.close()\n",
    "conn.close()\n",
    "\n",
    "# 이거는 데이터를 불러오는거니까 commit 이 필요없음"
   ]
  },
  {
   "cell_type": "markdown",
   "metadata": {},
   "source": [
    "# insert"
   ]
  },
  {
   "cell_type": "code",
   "execution_count": 33,
   "metadata": {},
   "outputs": [],
   "source": [
    "# 문제 : insert를 하는 프로시져를 생성한 다음\n",
    "# ('마음이','acorn','백구','f','2018-01-02','2018-11-04') 데이터를 입력하시오\n",
    "conn = pymysql.connect(host='192.168.1.243',\n",
    "                      user='root', port=3306, password='big2019',db='acornschool',\n",
    "                       charset='utf8mb4', use_unicode=True,\n",
    "                       cursorclass=pymysql.cursors.DictCursor)\n",
    "cur = conn.cursor()\n",
    "\n",
    "\n",
    "data = ('마음이','acorn','백구','f','2018-01-02','2018-11-04')\n",
    "cur.callproc('pet_insert', data)\n",
    "conn.commit()    # commit 을 해야 데이터가 새로 추가된다.  // commit 을해야 함수가 실행 된다. \n",
    "\n",
    "cur.close()\n",
    "conn.close()\n"
   ]
  },
  {
   "cell_type": "code",
   "execution_count": 44,
   "metadata": {},
   "outputs": [],
   "source": [
    "# 문제 : 이름을 update 하는 프로시져를 작성하고 마음이를 마음으로 수정하시오.\n",
    "\n",
    "\n",
    "\n",
    "\n",
    "#cur.callproc('pet_update')\n",
    "#conn.commit()   # commit 을해야 함수가 실행 된다.\n",
    "\n",
    "cur.close()\n",
    "conn.close()"
   ]
  },
  {
   "cell_type": "markdown",
   "metadata": {},
   "source": [
    "# update"
   ]
  },
  {
   "cell_type": "code",
   "execution_count": 46,
   "metadata": {},
   "outputs": [
    {
     "name": "stdout",
     "output_type": "stream",
     "text": [
      "0\n",
      "성공적으로 수정되었습니다\n"
     ]
    }
   ],
   "source": [
    "conn = pymysql.connect(host='192.168.1.243',\n",
    "                      user='root', port=3306, password='big2019',db='acornschool',\n",
    "                       charset='utf8mb4', use_unicode=True,\n",
    "                       cursorclass=pymysql.cursors.DictCursor)\n",
    "cur = conn.cursor()\n",
    "\n",
    "\n",
    "data = ('마음이','마음', 0)    # _1,_2,_3     ??\n",
    "cur.callproc('pet_update', data)\n",
    "cur.execute('SELECT @_pet_update_2')   # _2번째로 바꿔라\n",
    "conn.commit()\n",
    "result = cur.fetchone()\n",
    "print(result['@_pet_update_2'])\n",
    "if result['@_pet_update_2'] == 2:\n",
    "    print('수정할 이름이 없습니다')\n",
    "else:\n",
    "    print('성공적으로 수정되었습니다')\n",
    "\n",
    "cur.close()\n",
    "conn.close()"
   ]
  },
  {
   "cell_type": "markdown",
   "metadata": {},
   "source": [
    "# delete"
   ]
  },
  {
   "cell_type": "code",
   "execution_count": 50,
   "metadata": {},
   "outputs": [
    {
     "name": "stdout",
     "output_type": "stream",
     "text": [
      "2\n",
      "수정할 이름이 없습니다\n"
     ]
    }
   ],
   "source": [
    "conn = pymysql.connect(host='192.168.1.243',\n",
    "                      user='root', port=3306, password='big2019',db='acornschool',\n",
    "                       charset='utf8mb4', use_unicode=True,\n",
    "                       cursorclass=pymysql.cursors.DictCursor)\n",
    "cur = conn.cursor()\n",
    "\n",
    "data = ('귀염', 0)\n",
    "cur.callproc('pet_delete', data)\n",
    "cur.execute('SELECT @_pet_delete_1')\n",
    "conn.commit()\n",
    "result= cur.fetchone()\n",
    "print(result['@_pet_delete_1'])\n",
    "if result['@_pet_delete_1'] == 2:\n",
    "    print('수정할 이름이 없습니다')\n",
    "else:\n",
    "    print('성공적으로 수정되었습니다')\n",
    "\n",
    "\n",
    "cur.close()\n",
    "conn.close()"
   ]
  },
  {
   "cell_type": "markdown",
   "metadata": {},
   "source": [
    "# try ~ except"
   ]
  },
  {
   "cell_type": "code",
   "execution_count": 51,
   "metadata": {},
   "outputs": [
    {
     "name": "stdout",
     "output_type": "stream",
     "text": [
      "2\n",
      "수정할 이름이 없습니다\n"
     ]
    }
   ],
   "source": [
    "conn = pymysql.connect(host='192.168.1.243',\n",
    "                      user='root', port=3306, password='big2019',db='acornschool',\n",
    "                       charset='utf8mb4', use_unicode=True,\n",
    "                       cursorclass=pymysql.cursors.DictCursor)\n",
    "cur = conn.cursor()\n",
    "\n",
    "try:   # exception 예외처리 (프로그램은 지속적으로 실행되어야 하기 때문에 예외처리를 헤준다. )\n",
    "    data = ('귀염', 0)\n",
    "    cur.callproc('pet_delete', data)\n",
    "    cur.execute('SELECT @_pet_delete_1')\n",
    "    conn.commit()\n",
    "    result= cur.fetchone()\n",
    "    print(result['@_pet_delete_1'])\n",
    "    if result['@_pet_delete_1'] == 2:\n",
    "        print('수정할 이름이 없습니다')\n",
    "    else:\n",
    "        print('성공적으로 수정되었습니다')\n",
    "except :\n",
    "    db.rollback()      # 예외 들이 except로 온다. ( 여기에 지정한 값으로 처리된다. )\n",
    "\n",
    "cur.close()\n",
    "conn.close()"
   ]
  },
  {
   "cell_type": "code",
   "execution_count": null,
   "metadata": {},
   "outputs": [],
   "source": []
  },
  {
   "cell_type": "code",
   "execution_count": null,
   "metadata": {},
   "outputs": [],
   "source": []
  },
  {
   "cell_type": "code",
   "execution_count": null,
   "metadata": {},
   "outputs": [],
   "source": [
    "\n"
   ]
  },
  {
   "cell_type": "code",
   "execution_count": null,
   "metadata": {},
   "outputs": [],
   "source": []
  }
 ],
 "metadata": {
  "kernelspec": {
   "display_name": "Python 3",
   "language": "python",
   "name": "python3"
  },
  "language_info": {
   "codemirror_mode": {
    "name": "ipython",
    "version": 3
   },
   "file_extension": ".py",
   "mimetype": "text/x-python",
   "name": "python",
   "nbconvert_exporter": "python",
   "pygments_lexer": "ipython3",
   "version": "3.7.4"
  }
 },
 "nbformat": 4,
 "nbformat_minor": 2
}
