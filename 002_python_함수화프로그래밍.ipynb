{
 "cells": [
  {
   "cell_type": "markdown",
   "metadata": {},
   "source": [
    "# 2019.12.27  (Day 3)"
   ]
  },
  {
   "cell_type": "markdown",
   "metadata": {},
   "source": [
    "# 함수 (Function)\n",
    "\n",
    "- 함수 이름은 중복이 되면 안됨 ( 오버로딩은 default 매개변수로 해결)\n",
    "- Required arguments(매개변수를 순서적으로 입력)\n",
    "- keyword arguments(키이 매개변수의 순서 변경이 가능)\n",
    "- Default arguments(오버로딩 해결)\n",
    "- Variable - length arguemtns(변동매개변수 : * -> list, ** -> dict)"
   ]
  },
  {
   "cell_type": "code",
   "execution_count": 4,
   "metadata": {},
   "outputs": [
    {
     "name": "stdout",
     "output_type": "stream",
     "text": [
      "30\n",
      "30\n",
      "30\n",
      "70\n"
     ]
    }
   ],
   "source": [
    "a = 10\n",
    "b = 20\n",
    "result = a + b\n",
    "print(result)\n",
    "\n",
    "c = 10\n",
    "d = 20\n",
    "result = c + d\n",
    "print(result)\n",
    "\n",
    "\n",
    "# 위에 처럼 하나하나 입력하지 말고 밑에 def addvalue 처럼 함수를 만들고 데이터 대입만 하게 만들면 빠르다. \n",
    "# 사용자 정의 함수\n",
    "def addvalue(ab,bd):     # ab = 10, db = 20 주소값만 전달 ( call by reference - 주소값에 의해서 데이터 전달 )\n",
    "    return ab+bd\n",
    "print(addvalue(10,20))    # 호출시 데이터는 힙에 저장 => 주소값만 전달\n",
    "print(addvalue(30,40))"
   ]
  },
  {
   "cell_type": "markdown",
   "metadata": {},
   "source": [
    "# 회귀분석\n",
    " y = ax + b \n",
    " a : 기울기 계수, b : bias 절편"
   ]
  },
  {
   "cell_type": "code",
   "execution_count": 9,
   "metadata": {},
   "outputs": [
    {
     "data": {
      "text/plain": [
       "1030"
      ]
     },
     "execution_count": 9,
     "metadata": {},
     "output_type": "execute_result"
    }
   ],
   "source": [
    "def reg(a,b,x):\n",
    "    return a*x + b\n",
    "reg(10,30,100)\n",
    "\n",
    "\n",
    "# a,b값은 고정이고 x 만 변수이니까 이렇게 써도 됨\n",
    "def reg(x):\n",
    "    a = 10\n",
    "    b = 30\n",
    "    return a*x+b\n",
    "reg(100)\n",
    "\n",
    "\n",
    "# 위 아래 같은 함수가 써있어서 에러가 난다. \n",
    "# 이렇게 함수이름이 같으면 안됨"
   ]
  },
  {
   "cell_type": "code",
   "execution_count": 16,
   "metadata": {},
   "outputs": [],
   "source": [
    "# 두 수를 더한 값이 10보다 큰지 확인하시오\n",
    "\n",
    "a = 10\n",
    "b = 20\n",
    "result = a+b\n",
    "if result >= 10:\n",
    "    result = \"10보다 크다\"\n",
    "else:\n",
    "    result = \"10보다 작다\""
   ]
  },
  {
   "cell_type": "code",
   "execution_count": 17,
   "metadata": {},
   "outputs": [
    {
     "data": {
      "text/plain": [
       "'10보다 크다'"
      ]
     },
     "execution_count": 17,
     "metadata": {},
     "output_type": "execute_result"
    }
   ],
   "source": [
    "# 위 식을 사용자 정의 함수로 만들어줌\n",
    "def sum_1(a,b):\n",
    "    result = a+b\n",
    "    if result >= 10:\n",
    "        result = \"10보다 크다\"\n",
    "    else:\n",
    "        result = \"10보다 작다\"\n",
    "    return result\n",
    "sum_1(10,20)"
   ]
  },
  {
   "cell_type": "code",
   "execution_count": 32,
   "metadata": {},
   "outputs": [
    {
     "name": "stdout",
     "output_type": "stream",
     "text": [
      "(10, 20)\n"
     ]
    },
    {
     "data": {
      "text/plain": [
       "tuple"
      ]
     },
     "execution_count": 32,
     "metadata": {},
     "output_type": "execute_result"
    }
   ],
   "source": [
    "a = 10\n",
    "b = 20\n",
    "def swap(x,y):  # 함수는 여러개의 값을 리턴할 수 있음\n",
    "    return y,x\n",
    "a,b = swap(a,b)\n",
    "x = swap(a,b)   # 함수가 리턴하는 값은 튜플\n",
    "print(x)\n",
    "type(x)"
   ]
  },
  {
   "cell_type": "code",
   "execution_count": 34,
   "metadata": {},
   "outputs": [
    {
     "name": "stdout",
     "output_type": "stream",
     "text": [
      "(20, 10)\n"
     ]
    }
   ],
   "source": [
    "a = 10\n",
    "b = 20\n",
    "def swap(x,y):  # 함수는 여러개의 값을 리턴할 수 있음\n",
    "    return y,x\n",
    "x = swap(a,b)   # 함수가 리턴하는 값은 튜플\n",
    "print(x)\n"
   ]
  },
  {
   "cell_type": "code",
   "execution_count": 5,
   "metadata": {},
   "outputs": [
    {
     "name": "stdout",
     "output_type": "stream",
     "text": [
      "첫번째 수를 입력하시오 : 3\n",
      "두번째 수를 입력하시오 : 5\n",
      "결과 :  8\n",
      "결과 :  -2\n",
      "결과 :  15\n"
     ]
    }
   ],
   "source": [
    "# 두수를 입력받아 +,-,* 하는 함수 3개를 작성하시오. ( add, subtract, mutiply )\n",
    "\n",
    "number1 = int(input(\"첫번째 수를 입력하시오 : \"))\n",
    "number2 = int(input(\"두번째 수를 입력하시오 : \"))\n",
    "def add(number1, number2):\n",
    "    return number1 + number2\n",
    "\n",
    "def subtract (number1, number2):\n",
    "    return number1 - number2\n",
    "\n",
    "def multifly (number1, number2):\n",
    "    return number1 * number2\n",
    "\n",
    "# 함수는 일급하무 : 함수가 매개변수로 전달 가능, 리턴 값으로 가능\n",
    "def changefun(g,a,b):\n",
    "    return g(a,b)\n",
    "print('결과 : ', changefun(add, number1, number2)) # sort(key함수 전달)\n",
    "print('결과 : ', changefun(subtract, number1, number2))\n",
    "print('결과 : ', changefun(multifly, number1, number2))"
   ]
  },
  {
   "cell_type": "code",
   "execution_count": 40,
   "metadata": {},
   "outputs": [
    {
     "name": "stdout",
     "output_type": "stream",
     "text": [
      "함수 외부에서 출력 :  [10, 20, 30]\n",
      "list :  [1, 2]\n"
     ]
    }
   ],
   "source": [
    "# call by value\n",
    "\n",
    "def changeme (mylist):   # mylist = mylist 주소 // 여기서 mylist는 changeme 안에 있는 것\n",
    "    mylist=[1,2,3,4];    # 대입이 벌어지면 call by value\n",
    "    print(\"함수 내부에서 출력 : \", mylist)\n",
    "    return\n",
    "mylist = [10,20,30];   # heap에 저장  // 여기서 mylist 는 메인. \n",
    "#changeme( mylist );\n",
    "print(\"함수 외부에서 출력 : \", mylist )\n",
    "\n",
    "lis = [1,2]\n",
    "print(\"list : \",lis)"
   ]
  },
  {
   "cell_type": "code",
   "execution_count": 14,
   "metadata": {},
   "outputs": [
    {
     "name": "stdout",
     "output_type": "stream",
     "text": [
      "함수 내부에서 출력 :  [10, 20, 30, [1, 2, 3, 4]]\n",
      "함수 외부에서 출력 :  [10, 20, 30, [1, 2, 3, 4]]\n"
     ]
    }
   ],
   "source": [
    "# call by reference\n",
    "\n",
    "def changeme (mylist):   # mylist = mylist 주소 // 여기서 mylist는 changeme 안에 있는 것\n",
    "    mylist.append([1,2,3,4]);    \n",
    "    print(\"함수 내부에서 출력 : \", mylist)\n",
    "    return\n",
    "mylist = [10,20,30];   # heap에 저장  // 여기서 mylist 는 메인. //  왜 밖에서 출력 이유 : 주소값이 넘어닸기 때문 call by reference\n",
    "changeme( mylist );\n",
    "print(\"함수 외부에서 출력 : \", mylist )"
   ]
  },
  {
   "cell_type": "code",
   "execution_count": 15,
   "metadata": {
    "scrolled": true
   },
   "outputs": [
    {
     "ename": "AttributeError",
     "evalue": "'set' object has no attribute 'append'",
     "output_type": "error",
     "traceback": [
      "\u001b[1;31m---------------------------------------------------------------------------\u001b[0m",
      "\u001b[1;31mAttributeError\u001b[0m                            Traceback (most recent call last)",
      "\u001b[1;32m<ipython-input-15-1ad20a5b8c1e>\u001b[0m in \u001b[0;36m<module>\u001b[1;34m\u001b[0m\n\u001b[0;32m      1\u001b[0m \u001b[0mmylist\u001b[0m \u001b[1;33m=\u001b[0m \u001b[1;33m{\u001b[0m\u001b[1;36m10\u001b[0m\u001b[1;33m,\u001b[0m\u001b[1;36m20\u001b[0m\u001b[1;33m,\u001b[0m\u001b[1;36m30\u001b[0m\u001b[1;33m}\u001b[0m\u001b[1;33m;\u001b[0m\u001b[1;33m\u001b[0m\u001b[1;33m\u001b[0m\u001b[0m\n\u001b[1;32m----> 2\u001b[1;33m \u001b[0mchangeme\u001b[0m\u001b[1;33m(\u001b[0m \u001b[0mmylist\u001b[0m \u001b[1;33m)\u001b[0m\u001b[1;33m;\u001b[0m\u001b[1;33m\u001b[0m\u001b[1;33m\u001b[0m\u001b[0m\n\u001b[0m\u001b[0;32m      3\u001b[0m \u001b[0mprint\u001b[0m\u001b[1;33m(\u001b[0m\u001b[1;34m\"함수 외부에서 출력 : \"\u001b[0m\u001b[1;33m,\u001b[0m \u001b[0mmylist\u001b[0m\u001b[1;33m)\u001b[0m\u001b[1;33m\u001b[0m\u001b[1;33m\u001b[0m\u001b[0m\n",
      "\u001b[1;32m<ipython-input-14-4e339c3d58b1>\u001b[0m in \u001b[0;36mchangeme\u001b[1;34m(mylist)\u001b[0m\n\u001b[0;32m      1\u001b[0m \u001b[1;32mdef\u001b[0m \u001b[0mchangeme\u001b[0m \u001b[1;33m(\u001b[0m\u001b[0mmylist\u001b[0m\u001b[1;33m)\u001b[0m\u001b[1;33m:\u001b[0m   \u001b[1;31m# mylist = mylist 주소 // 여기서 mylist는 changeme 안에 있는 것\u001b[0m\u001b[1;33m\u001b[0m\u001b[1;33m\u001b[0m\u001b[0m\n\u001b[1;32m----> 2\u001b[1;33m     \u001b[0mmylist\u001b[0m\u001b[1;33m.\u001b[0m\u001b[0mappend\u001b[0m\u001b[1;33m(\u001b[0m\u001b[1;33m[\u001b[0m\u001b[1;36m1\u001b[0m\u001b[1;33m,\u001b[0m\u001b[1;36m2\u001b[0m\u001b[1;33m,\u001b[0m\u001b[1;36m3\u001b[0m\u001b[1;33m,\u001b[0m\u001b[1;36m4\u001b[0m\u001b[1;33m]\u001b[0m\u001b[1;33m)\u001b[0m\u001b[1;33m;\u001b[0m\u001b[1;33m\u001b[0m\u001b[1;33m\u001b[0m\u001b[0m\n\u001b[0m\u001b[0;32m      3\u001b[0m     \u001b[0mprint\u001b[0m\u001b[1;33m(\u001b[0m\u001b[1;34m\"함수 내부에서 출력 : \"\u001b[0m\u001b[1;33m,\u001b[0m \u001b[0mmylist\u001b[0m\u001b[1;33m)\u001b[0m\u001b[1;33m\u001b[0m\u001b[1;33m\u001b[0m\u001b[0m\n\u001b[0;32m      4\u001b[0m     \u001b[1;32mreturn\u001b[0m\u001b[1;33m\u001b[0m\u001b[1;33m\u001b[0m\u001b[0m\n\u001b[0;32m      5\u001b[0m \u001b[0mmylist\u001b[0m \u001b[1;33m=\u001b[0m \u001b[1;33m[\u001b[0m\u001b[1;36m10\u001b[0m\u001b[1;33m,\u001b[0m\u001b[1;36m20\u001b[0m\u001b[1;33m,\u001b[0m\u001b[1;36m30\u001b[0m\u001b[1;33m]\u001b[0m\u001b[1;33m;\u001b[0m   \u001b[1;31m# heap에 저장  // 여기서 mylist 는 메인. //  왜 밖에서 출력 이유 : 주소값이 넘어닸기 때문 call by reference\u001b[0m\u001b[1;33m\u001b[0m\u001b[1;33m\u001b[0m\u001b[0m\n",
      "\u001b[1;31mAttributeError\u001b[0m: 'set' object has no attribute 'append'"
     ]
    }
   ],
   "source": [
    "# 실행이 안되는 이유 :  데이터 타입을 구분해야 하는것은 프로그래머의 책임. \n",
    "# mylist에 dict 타입으로 넣으면 안된다. 위에 것과 같은 데이터 타입으로 일치를 시켜야 한다. \n",
    "\n",
    "mylist = {10,20,30};\n",
    "changeme( mylist );\n",
    "print(\"함수 외부에서 출력 : \", mylist)"
   ]
  },
  {
   "cell_type": "markdown",
   "metadata": {},
   "source": [
    "#  :  블럭 시작 ( for, if 등등)\n",
    "\n",
    "#  ;  문장 종료 (없어도 됨, 한줄에 이어 적을때는 꼭 써야한다.)"
   ]
  },
  {
   "cell_type": "markdown",
   "metadata": {},
   "source": [
    "# 변동 매개변수"
   ]
  },
  {
   "cell_type": "code",
   "execution_count": 17,
   "metadata": {},
   "outputs": [
    {
     "name": "stdout",
     "output_type": "stream",
     "text": [
      "시작\n",
      "1,2,3,\n",
      "1,2,3,4,5,\n"
     ]
    }
   ],
   "source": [
    "# 변동 매개변수 : \n",
    "\n",
    "def func1(*args):    # * 하나 썼으니까 -> 리스트\n",
    "    for i in args:\n",
    "        print(i, end = ',')\n",
    "    print()\n",
    "print('시작')\n",
    "func1(1,2,3)\n",
    "func1(1,2,3,4,5)"
   ]
  },
  {
   "cell_type": "code",
   "execution_count": 20,
   "metadata": {},
   "outputs": [
    {
     "name": "stdout",
     "output_type": "stream",
     "text": [
      "args is  (1, 2)\n",
      "kwargs is  {'z': 5.0}\n",
      "Hello Now I'm going to call <function g at 0x000001C1042B1948>\n",
      "1\n",
      "2\n",
      "5.0\n"
     ]
    },
    {
     "data": {
      "text/plain": [
       "0.6"
      ]
     },
     "execution_count": 20,
     "metadata": {},
     "output_type": "execute_result"
    }
   ],
   "source": [
    "def say_hello_then_call (f, *args, **kwargs):  # 함수, 리스트, 딕셔너리\n",
    "    print('args is ', args)\n",
    "    print('kwargs is ', kwargs)\n",
    "    print(\"Hello Now I'm going to call %s\" % f)   # 함수 위치한 주소 값\n",
    "    return f(*args, **kwargs)  # 전달된 함수에 리스트와 딕셔너리를 넣어서 호출\n",
    "\n",
    "def g(x,y,z=1):   # 디폴트 매개변수 // x,y는 리콰이어 \n",
    "    print(x)\n",
    "    print(y)\n",
    "    print(z)\n",
    "    return(x+y) / z\n",
    "say_hello_then_call(g,1,2,z = 5.)\n",
    "\n",
    "# f 는 매개변수 그냥 뒤에 올 함수 자리?\n",
    "# 뒤에 g 가 나와서 함수 지정해줘서 g 가 f 자리로 들어가서 함수 역할을 하는건가봉가.......하....ㅎ..ㅜ............."
   ]
  },
  {
   "cell_type": "code",
   "execution_count": 21,
   "metadata": {},
   "outputs": [
    {
     "name": "stdout",
     "output_type": "stream",
     "text": [
      "1 0\n",
      "1 2\n",
      "1 2\n"
     ]
    }
   ],
   "source": [
    "def func_test2(a, b = 0):   # b 는 default - b값을 주어지지 않으면 default 값으로 출력\n",
    "    print(a,b)\n",
    "func_test2(1)\n",
    "func_test2(1,2)\n",
    "func_test2(b = 2, a = 1)     # key 매개변수 ( 순서를 바꾸고 싶을때 키이 지정하면 됨. )"
   ]
  },
  {
   "cell_type": "code",
   "execution_count": 24,
   "metadata": {},
   "outputs": [],
   "source": [
    "def func_test4():\n",
    "    pass  # 몸통을 미지정 - 에러는 나오지 않지만 출력할게 없으니 None을 출력한다. \n",
    "           # NONE 은 객체이다"
   ]
  },
  {
   "cell_type": "code",
   "execution_count": 25,
   "metadata": {},
   "outputs": [
    {
     "data": {
      "text/plain": [
       "True"
      ]
     },
     "execution_count": 25,
     "metadata": {},
     "output_type": "execute_result"
    }
   ],
   "source": [
    "# == 숫자나 문자, 객체를 비교할 때는 is\n",
    "\n",
    "result = func_test4()\n",
    "result is None"
   ]
  },
  {
   "cell_type": "code",
   "execution_count": 27,
   "metadata": {},
   "outputs": [
    {
     "data": {
      "text/plain": [
       "NoneType"
      ]
     },
     "execution_count": 27,
     "metadata": {},
     "output_type": "execute_result"
    }
   ],
   "source": [
    "result.__class__   # 맴버변수 ( . 으로 작동 )\n",
    "                   # .__class __ : 시스템에서 생성한 변수 : 어떤 타입이니 물을때 "
   ]
  },
  {
   "cell_type": "code",
   "execution_count": 28,
   "metadata": {},
   "outputs": [
    {
     "data": {
      "text/plain": [
       "function"
      ]
     },
     "execution_count": 28,
     "metadata": {},
     "output_type": "execute_result"
    }
   ],
   "source": [
    "func_test4.__class__    # 함수도 객체이다. (함수. 으로 작동 가능)"
   ]
  },
  {
   "cell_type": "code",
   "execution_count": 31,
   "metadata": {},
   "outputs": [
    {
     "name": "stdout",
     "output_type": "stream",
     "text": [
      "15 5 50\n",
      "<class 'function'>\n"
     ]
    }
   ],
   "source": [
    "def func_test3(a,b):\n",
    "    return a+b, a-b, a*b\n",
    "a,b,c = func_test3(10,5)\n",
    "print(a,b,c)\n",
    "print(type(func_test3))  # 함수도 객체다. "
   ]
  },
  {
   "cell_type": "markdown",
   "metadata": {},
   "source": [
    " # 커링"
   ]
  },
  {
   "cell_type": "code",
   "execution_count": 41,
   "metadata": {},
   "outputs": [
    {
     "name": "stdout",
     "output_type": "stream",
     "text": [
      "15\n"
     ]
    }
   ],
   "source": [
    "# 커링\n",
    "def all_number(x,y):   # all_number 는 두개 데이터\n",
    "    return x + y\n",
    "add_five = lambda y : all_number(5,y)  # lambda(무명함수)에 첫 '5'만 고정한다. => 유명함수가 된다. \n",
    "print(add_five(10))"
   ]
  },
  {
   "cell_type": "code",
   "execution_count": 54,
   "metadata": {},
   "outputs": [
    {
     "ename": "NameError",
     "evalue": "name 'd' is not defined",
     "output_type": "error",
     "traceback": [
      "\u001b[1;31m---------------------------------------------------------------------------\u001b[0m",
      "\u001b[1;31mNameError\u001b[0m                                 Traceback (most recent call last)",
      "\u001b[1;32m<ipython-input-54-ca8f918173d5>\u001b[0m in \u001b[0;36m<module>\u001b[1;34m\u001b[0m\n\u001b[0;32m      5\u001b[0m \u001b[1;33m\u001b[0m\u001b[0m\n\u001b[0;32m      6\u001b[0m \u001b[0mx\u001b[0m \u001b[1;33m=\u001b[0m \u001b[1;33m(\u001b[0m\u001b[0ma\u001b[0m\u001b[1;33m,\u001b[0m\u001b[0mb\u001b[0m\u001b[1;33m)\u001b[0m\u001b[1;33m\u001b[0m\u001b[1;33m\u001b[0m\u001b[0m\n\u001b[1;32m----> 7\u001b[1;33m \u001b[0my\u001b[0m \u001b[1;33m=\u001b[0m \u001b[1;33m(\u001b[0m\u001b[0mc\u001b[0m\u001b[1;33m,\u001b[0m\u001b[0md\u001b[0m\u001b[1;33m)\u001b[0m\u001b[1;33m\u001b[0m\u001b[1;33m\u001b[0m\u001b[0m\n\u001b[0m\u001b[0;32m      8\u001b[0m \u001b[1;33m\u001b[0m\u001b[0m\n\u001b[0;32m      9\u001b[0m \u001b[1;32mimport\u001b[0m \u001b[0mmath\u001b[0m\u001b[1;33m\u001b[0m\u001b[1;33m\u001b[0m\u001b[0m\n",
      "\u001b[1;31mNameError\u001b[0m: name 'd' is not defined"
     ]
    }
   ],
   "source": [
    "# 문제 : 두 점 사이의 거리값을 구하는 함수를 작성하시오.\n",
    "# root => \n",
    "# import math\n",
    "# math.sqrt()\n",
    "\n",
    "x = (a,b)\n",
    "y = (c,d)\n",
    "\n",
    "import math\n",
    "def distance(x,y):\n",
    "    return math.sqrt((a-b)**2 - (c-d)**2)\n",
    "x = (5,4)\n",
    "y = (3,8)\n",
    "print(distance)\n"
   ]
  },
  {
   "cell_type": "code",
   "execution_count": 50,
   "metadata": {},
   "outputs": [
    {
     "name": "stdout",
     "output_type": "stream",
     "text": [
      "1.4142135623730951\n",
      "Object `distance_between_points    # ? 는 정보 출력` not found.\n"
     ]
    }
   ],
   "source": [
    "# 문제 : 두 점 사이의 거리값을 구하는 함수를 작성하시오.\n",
    "# 선생님 답안\n",
    "\n",
    "import math\n",
    "#math.sqrt()\n",
    "\n",
    "def distance_between_points(x1,y1,x2,y2):\n",
    "    \"\"\"두 점 사이의 거리를 구하는 함수\"\"\"    # <- \"\"\" 3개 이면 입력한 그대로 출력됨\n",
    "    dx = x1 - x2\n",
    "    dy = y1 - y2\n",
    "    dist = math.sqrt(dx**2+ dy**2)\n",
    "    return dist\n",
    "print(distance_between_points(4,1,5,2))\n",
    "?distance_between_points    # ? 는 정보 출력"
   ]
  },
  {
   "cell_type": "code",
   "execution_count": 52,
   "metadata": {},
   "outputs": [
    {
     "data": {
      "text/plain": [
       "120"
      ]
     },
     "execution_count": 52,
     "metadata": {},
     "output_type": "execute_result"
    }
   ],
   "source": [
    "# 수학에서 factorial 5! = 5*4*3*2*1\n",
    "def factorial(n):\n",
    "    sum = 1     # 항등원\n",
    "    for i in range(n,1,-1):\n",
    "        sum *= i\n",
    "    return sum\n",
    "factorial(5)\n",
    "\n",
    "# 덧셈의 항등원 : 0 , 곱셈의 항등원 : 1 , 행렬의 항등원 : 단위행렬(대각선이 1 인 행렬)"
   ]
  },
  {
   "cell_type": "markdown",
   "metadata": {},
   "source": [
    "# 재귀함수 **"
   ]
  },
  {
   "cell_type": "code",
   "execution_count": 55,
   "metadata": {},
   "outputs": [
    {
     "data": {
      "text/plain": [
       "120"
      ]
     },
     "execution_count": 55,
     "metadata": {},
     "output_type": "execute_result"
    }
   ],
   "source": [
    "# 재귀함수 : 함수가 자기자신 함수를 호출\n",
    "def factorial(n, stop = 1):\n",
    "    if n <= stop or n <= 0:  # 종료조건 과 입력제한 (음수, 0 제한)\n",
    "        return 1\n",
    "    return n * factorial(n-1, stop)\n",
    "factorial(5)\n",
    "\n",
    "# 함수가 자기 자신을 호출하려면 꼭 종료 조건이 있어야 한다 . 안그러면 함수를 계속 호출해서 overflow가 됨. "
   ]
  },
  {
   "cell_type": "code",
   "execution_count": 59,
   "metadata": {},
   "outputs": [
    {
     "name": "stdout",
     "output_type": "stream",
     "text": [
      "8\n"
     ]
    }
   ],
   "source": [
    "# power 함수를 구현하시오. (2 ^ 10 = pow(2,10)) \n",
    "\n",
    "def power(r,n): \n",
    "    value = 1\n",
    "    for i in range(1,n+1):\n",
    "        value = r * value\n",
    "    return value\n",
    "print(power(2,3))\n"
   ]
  },
  {
   "cell_type": "code",
   "execution_count": 65,
   "metadata": {},
   "outputs": [
    {
     "name": "stdout",
     "output_type": "stream",
     "text": [
      "8\n"
     ]
    }
   ],
   "source": [
    "# power 함수를 구현하시오. (2 ^ 10 = pow(2,10))  => 재귀호출 방식으로 변환하시오\n",
    "def power(r,n):\n",
    "    if n == 1:\n",
    "        return r\n",
    "    else:      # else는 있어도 되고 없어도 된다래\n",
    "        return r * power(r,n-1)\n",
    "print(power(2,3))"
   ]
  },
  {
   "cell_type": "markdown",
   "metadata": {},
   "source": [
    "# 내부 함수 "
   ]
  },
  {
   "cell_type": "code",
   "execution_count": 71,
   "metadata": {},
   "outputs": [
    {
     "name": "stdout",
     "output_type": "stream",
     "text": [
      "inner\n"
     ]
    }
   ],
   "source": [
    "# 내부함수 - 함수 안에서만 사용가능\n",
    "\n",
    "def outer():\n",
    "    def inner():\n",
    "        print('inner')\n",
    "    inner()\n",
    "outer() "
   ]
  },
  {
   "cell_type": "code",
   "execution_count": 70,
   "metadata": {},
   "outputs": [
    {
     "name": "stdout",
     "output_type": "stream",
     "text": [
      "global inner\n"
     ]
    }
   ],
   "source": [
    "# inner  비교하기\n",
    "def inner():\n",
    "    print('global inner')\n",
    "inner()"
   ]
  },
  {
   "cell_type": "markdown",
   "metadata": {},
   "source": [
    "# generator **"
   ]
  },
  {
   "cell_type": "code",
   "execution_count": 72,
   "metadata": {},
   "outputs": [
    {
     "name": "stdout",
     "output_type": "stream",
     "text": [
      "0.3282473297485038\n",
      "0.378379911314923\n",
      "0.020498236003717696\n",
      "0.9934759637728946\n",
      "0.20377128884292128\n"
     ]
    }
   ],
   "source": [
    "# generator\n",
    "# for in : Collections( list, tuple, dict, set), iterator(ranges), generator, eneumerate\n",
    "\n",
    "import random\n",
    "def gaus_dist(n):\n",
    "    while n > 0 :\n",
    "        yield random.random()     # yield : 비동기 호출함수 (꼭 들어가야 함 - while)\n",
    "        n-=1                      # 랜덤이 실시간으로 생성해내는 수로 메모리가 필요가 없다. 그런데 많이 생성하려면 공간이 부족하니까\n",
    "                                  # 실행할때만 사용하는 함수로 yield 를 사용한다 \n",
    "                                  # random.random() 함수가 0-1 사이에 숫자를 출력\n",
    "gd = gaus_dist(5)\n",
    "for i in gd:\n",
    "    print(i)\n",
    "    \n",
    "# 메모리가 있는 데이터는 프린트를 하면 리스트 화해서 나오는데 이거는 랜덤으로 실행만하고 실시간 생성으로 메모리에 저장이 되지 않고\n",
    "# 주소 값만 저장해서 함수에 주소만 실행해서 리스트로 나오지 않고 그냥 그 주소에 함수를 실행해서 나온 값만 나온다. "
   ]
  },
  {
   "cell_type": "markdown",
   "metadata": {},
   "source": [
    "# clouser : 함수가 값을 저장"
   ]
  },
  {
   "cell_type": "code",
   "execution_count": 75,
   "metadata": {},
   "outputs": [
    {
     "name": "stdout",
     "output_type": "stream",
     "text": [
      "python's recipe no.1\n",
      "perl's recipe no.2\n"
     ]
    },
    {
     "data": {
      "text/plain": [
       "(1928511431160, 1928511431304)"
      ]
     },
     "execution_count": 75,
     "metadata": {},
     "output_type": "execute_result"
    }
   ],
   "source": [
    "# 함수가 값을 저장할 수 있는가?  - 지역변수라 저장이 불가\n",
    "# clouser 를 만들면 함수가 값을 저장할 수 있다.  ( 자바 스크립트에서 사용하던 방식 )  \n",
    "# : 값을 저장하는 방법 - 내부함수가 작동을 실행 할 동안 외부 함수에서 저장한 데이터('이름')을 저장해서 저장이 가능하다. \n",
    "\n",
    "def cookbook(name):\n",
    "    def recipe(no):\n",
    "        print(\"%s's recipe no.%d\" % (name, no))    # 내부함수 리턴\n",
    "    return recipe           \n",
    "python_recipe = cookbook('python')\n",
    "perl_recipe = cookbook('perl')\n",
    "python_recipe(1)\n",
    "perl_recipe(2)\n",
    "id(python_recipe), id(perl_recipe)\n"
   ]
  },
  {
   "cell_type": "code",
   "execution_count": 79,
   "metadata": {},
   "outputs": [
    {
     "name": "stdout",
     "output_type": "stream",
     "text": [
      "         1.7560\n",
      "         2.2220\n",
      "              1\n"
     ]
    }
   ],
   "source": [
    "# clouser 클로저의 응용( 장식자 : decorator )\n",
    "\n",
    "def format_and_pad(template, space):\n",
    "    def formatter(x):\n",
    "        return (template % x).rjust(space)\n",
    "    return formatter\n",
    " \n",
    "fmt = format_and_pad('%.4f',15)   # %.4f : 소수점 4자리\n",
    "print(fmt(1.756))\n",
    "print(fmt(2.222))\n",
    "fmt2 = format_and_pad('%d', 15)   # %d : 정수로     //    %s : string\n",
    "print(fmt2(1.756))\n",
    "\n",
    "# str, int, float"
   ]
  },
  {
   "cell_type": "markdown",
   "metadata": {},
   "source": [
    "# 도형 넓이 구하기 "
   ]
  },
  {
   "cell_type": "code",
   "execution_count": 4,
   "metadata": {},
   "outputs": [
    {
     "name": "stdout",
     "output_type": "stream",
     "text": [
      "밑변을 입력하시오 : 1\n",
      "높이를 입력하시오 : 5\n",
      "<function number at 0x0000024048511EE8>\n"
     ]
    }
   ],
   "source": [
    "# 데이터를 입력받아 삼각형의 넓이, 사각형의 넓이, 원의 넓이를 계산하는 함수를 작성해 보시오 \n",
    "# 삼각형 : (밑변 X 높이 / 2)\n",
    "# 사각형 : (밑변 X 높이)\n",
    "# 원 : (반지름 X pi)\n",
    "\n",
    "# 내 답안.. \n",
    "num1 = int(input(\"밑변을 입력하시오 : \"))\n",
    "num2 = int(input(\"높이를 입력하시오 : \"))\n",
    "# num3 = int(input(\"반지름을 입력하시오 : \"))\n",
    "\n",
    "def number(num1, num2):\n",
    "    rect = (num1*num2)\n",
    "    tri = (num1*num2)/2\n",
    "    return rect, tri\n",
    "print()\n"
   ]
  },
  {
   "cell_type": "code",
   "execution_count": 7,
   "metadata": {},
   "outputs": [
    {
     "name": "stdout",
     "output_type": "stream",
     "text": [
      "밑변이나 반지름으로 사용할 값을 입력하시오9\n",
      "삼각형이나 사각형의 높이를 입력하시오9\n",
      "삼각형의 넓이는  40.5\n",
      "사각형의 넓이는  81\n",
      "원의 넓이는  254.46900494077323\n"
     ]
    }
   ],
   "source": [
    "# 데이터를 입력받아 삼각형의 넓이, 사각형의 넓이, 원의 넓이를 계산하는 함수를 작성해 보시오 \n",
    "# 선생님 답안\n",
    "\n",
    "import math\n",
    "def calculate_triangle(mylist):\n",
    "    return mylist[0] * mylist[1]/2\n",
    "def calculate_rectangle(mylist):\n",
    "    return mylist[0] * mylist[1]\n",
    "def calculate_circle(mylist):\n",
    "    return math.pi *(mylist[0]**2)\n",
    "mylist = []\n",
    "width = eval(input(\"밑변이나 반지름으로 사용할 값을 입력하시오 : \"))\n",
    "height = eval(input(\"삼각형이나 사각형의 높이를 입력하시오 : \"))\n",
    "mylist.append(width)\n",
    "mylist.append(height)\n",
    "print(\"삼각형의 넓이는 \", calculate_triangle(mylist))\n",
    "print(\"사각형의 넓이는 \", calculate_rectangle(mylist))\n",
    "print(\"원의 넓이는 \", calculate_circle(mylist))"
   ]
  },
  {
   "cell_type": "markdown",
   "metadata": {},
   "source": [
    "# 주급 계산하기 "
   ]
  },
  {
   "cell_type": "code",
   "execution_count": 13,
   "metadata": {},
   "outputs": [
    {
     "name": "stdout",
     "output_type": "stream",
     "text": [
      "하루에 일하는 시간을 입력하시오 : 8000\n",
      "시간당 급여를 입력하시오 : 7\n",
      "당신의 주급은 84000.0 원 입니다\n"
     ]
    }
   ],
   "source": [
    "# 시간과 시간당 급여를 입력받아 주급을 계산하는 프로그램을 작성하시오 .\n",
    "# 조건 : 40시간이 넘으면 1.5배하여 지급합니다. \n",
    "#      : 매개변수(시간, 시간당급여)\n",
    "\n",
    "# 내가한 푼거 - 틀렸어어어어어어\n",
    "def calculate_payment(thelist):\n",
    "    if thelist[0] >= 40:\n",
    "        return thelist[0]*thelist[1]*1.5\n",
    "    return thelist[0]* thelist[1]*7\n",
    "\n",
    "thelist = []\n",
    "time = eval(input(\"하루에 일하는 시간을 입력하시오 : \"))\n",
    "pay = eval(input(\"시간당 급여를 입력하시오 : \"))\n",
    "thelist.append(time)\n",
    "thelist.append(pay)\n",
    "print(\"당신의 주급은\", calculate_payment(thelist),\"원 입니다\")\n"
   ]
  },
  {
   "cell_type": "code",
   "execution_count": 12,
   "metadata": {
    "scrolled": true
   },
   "outputs": [
    {
     "name": "stdout",
     "output_type": "stream",
     "text": [
      "시간당 급여는 : 8000\n",
      "주간 총 근무시간 : 50\n",
      "주간 수입은 ; 440,000.00 원\n"
     ]
    }
   ],
   "source": [
    "# 시간과 시간당 급여를 입력받아 주급을 계산하는 프로그램을 작성하시오 .\n",
    "# 조건 : 40시간이 넘으면 1.5배하여 지급합니다. \n",
    "#      : 매개변수(시간, 시간당급여)\n",
    "\n",
    "# 선생님 답안\n",
    "\n",
    "basictime = 40       # 상수는 변수화 하는게 유리하다\n",
    "def pay(wage, hours):\n",
    "    if hours <= basictime:\n",
    "        amount = wage * hours\n",
    "    else:\n",
    "        amount = (wage * basictime) + ((1.5)* wage * (hours - basictime))\n",
    "    return amount\n",
    "hourlyWage = eval(input(\"시간당 급여는 : \"))\n",
    "hoursWorked = eval(input(\"주간 총 근무시간 : \"))\n",
    "earnings = pay(hourlyWage, hoursWorked)\n",
    "print(\"주간 수입은 ; {0:,.2f} 원\".format(earnings))"
   ]
  },
  {
   "cell_type": "markdown",
   "metadata": {},
   "source": [
    "# 복리 계산"
   ]
  },
  {
   "cell_type": "code",
   "execution_count": 2,
   "metadata": {
    "collapsed": true
   },
   "outputs": [
    {
     "name": "stdout",
     "output_type": "stream",
     "text": [
      "원가를 입력하시오 : 50\n",
      "거치년수를 입력하시오 : 3\n",
      "복리금액은 ; 140,608.00 원\n"
     ]
    }
   ],
   "source": [
    "# 이자율이 주어졌을 때 기간거치후의 총액과 이자수익을 출력하시오\n",
    "# 복리계산 = (원가1 + 이율 0.04) ** 거치년수\n",
    "# 원가 + 원가*이율\n",
    "# insert_rate = 0.04\n",
    "# 매개변수 : 원금, 거치기간\n",
    "\n",
    "# 단서 조건 : 입력 함수, 계산 함수, 출력함수로 분리해서 작성하시오.\n",
    "\n",
    "# 내가 한거..\n",
    "def calculate(moneylist):\n",
    "    return (moneylist[0] + moneylist[0]*0.04)**moneylist[1]\n",
    "\n",
    "moneylist=[]\n",
    "money = eval(input(\"원가를 입력하시오 : \"))\n",
    "year = eval(input(\"거치년수를 입력하시오 : \"))\n",
    "moneylist.append(money)\n",
    "moneylist.append(year)\n",
    "print(\"복리금액은 ; {0:,.2f} 원\".format(calculate(moneylist)))"
   ]
  },
  {
   "cell_type": "code",
   "execution_count": 4,
   "metadata": {},
   "outputs": [
    {
     "name": "stdout",
     "output_type": "stream",
     "text": [
      "예금액 : 50\n",
      "기간 : 5\n",
      "예금 총액 : $60.83   이자 총액 : $10.83\n"
     ]
    }
   ],
   "source": [
    "# 이자율이 주어졌을 때 기간거치후의 총액과 이자수익을 출력하시오\n",
    "# 복리계산 = (원가1 + 이율 0.04) ** 거치년수\n",
    "# 단서 조건 : 입력 함수, 계산 함수, 출력함수로 분리해서 작성하시오.\n",
    "\n",
    "# 선생님 답안\n",
    "INTEREST_RATE = 0.04\n",
    "def getinput(): # 입력\n",
    "    principal = eval(input(\"예금액 : \"))\n",
    "    numberOfYears = eval(input(\"기간 : \"))\n",
    "    return (principal, numberOfYears)\n",
    "def balanceAndInterest(prin, numYears):   # 처리\n",
    "    balance = prin * ((1 + INTEREST_RATE) ** numYears) # 원금포함 이자 계산액\n",
    "    interestEarned = balance - prin\n",
    "    return (balance, interestEarned)\n",
    "def displayOutput(bal, intEarned):     # 출력\n",
    "    print(\"예금 총액 : ${0:,.2f}   이자 총액 : ${1:,.2f}\".format(bal,intEarned))\n",
    "\n",
    "def main ():   # 위에 함수들을 실제로 사용하겠다는 중재자 같은 역활 의 함수.\n",
    "    principal, numberOfYears = getinput()\n",
    "    bal,intEarned = balanceAndInterest(principal, numberOfYears)\n",
    "    displayOutput(bal, intEarned)\n",
    "#    displayOutput(*(balanceAndInterest(*(getinput()))))     <- 위에 3줄을 한줄로 요약\n",
    "main()    \n",
    "\n",
    "\n",
    "# main 함수를 써야 위에 지정했던 3개의 함수를 불러 사용할 수 있다. "
   ]
  },
  {
   "cell_type": "markdown",
   "metadata": {},
   "source": [
    "# 함수화 프로그래밍 for + 함수를 적용"
   ]
  },
  {
   "cell_type": "code",
   "execution_count": null,
   "metadata": {},
   "outputs": [],
   "source": [
    "# 함수화 프로그래밍 for + 함수를 적용\n",
    "lambda 함수를 이용한 처리가 많음"
   ]
  },
  {
   "cell_type": "code",
   "execution_count": 5,
   "metadata": {},
   "outputs": [
    {
     "data": {
      "text/plain": [
       "100"
      ]
     },
     "execution_count": 5,
     "metadata": {},
     "output_type": "execute_result"
    }
   ],
   "source": [
    "(lambda x: x*x)(10)"
   ]
  },
  {
   "cell_type": "code",
   "execution_count": 6,
   "metadata": {},
   "outputs": [
    {
     "name": "stdout",
     "output_type": "stream",
     "text": [
      "11\n"
     ]
    },
    {
     "data": {
      "text/plain": [
       "15"
      ]
     },
     "execution_count": 6,
     "metadata": {},
     "output_type": "execute_result"
    }
   ],
   "source": [
    "incr = lambda x, incr = 1: x + incr  # 무명함수 -> 유명함수\n",
    "print(incr(10))\n",
    "incr(10,5)"
   ]
  },
  {
   "cell_type": "code",
   "execution_count": 7,
   "metadata": {},
   "outputs": [
    {
     "name": "stdout",
     "output_type": "stream",
     "text": [
      "['aaa', 'foo', 'abab', 'bar', 'card']\n"
     ]
    }
   ],
   "source": [
    "# 개수에 따른 정렬\n",
    "strings = ['foo', 'card','bar','aaa','abab']\n",
    "strings.sort()   # default가 있어서 가능\n",
    "# 정렬 기준을 key 에 함수로 전달 ( )\n",
    "strings.sort(key = lambda x : len(set(list(x))))  # 중복되지 않는 데이터 개수에 따라\n",
    "print(strings)\n",
    "\n",
    "# aaa에는 a 1개, foo 는 o 두개, ab두개씨ㄱ. bar는 3개 , card 는 4개 "
   ]
  },
  {
   "cell_type": "code",
   "execution_count": 8,
   "metadata": {},
   "outputs": [
    {
     "name": "stdout",
     "output_type": "stream",
     "text": [
      "<map object at 0x0000025B995D2948>\n",
      "[9, 16]\n"
     ]
    }
   ],
   "source": [
    "# map 함수가 함수화 프로그래밍 (R 에서 apply 와 비슷한 역할)\n",
    "m = map(lambda x : x*x, [3,4])     # 3:3*3 = 9  ,  4:4*4 = 16\n",
    "print(m)         # 맵은 프린트해서 출력할 수 없다. \n",
    "print(list(m))   # 맵은 리스트로 캐스팅 해야 출력된다. (안에 있는 내용을 보려면)\n",
    "\n",
    "# 여기에는 왜 key = lambda 가 없을까?\n",
    "# 맵은 디폴트가없다. 꼭 처음에는 함수가 있어야 한다. "
   ]
  },
  {
   "cell_type": "code",
   "execution_count": 10,
   "metadata": {},
   "outputs": [
    {
     "data": {
      "text/plain": [
       "[0, 1, 4, 9, 16]"
      ]
     },
     "execution_count": 10,
     "metadata": {},
     "output_type": "execute_result"
    }
   ],
   "source": [
    "# 방법1\n",
    "list(map(lambda x : x*x, range(5)))"
   ]
  },
  {
   "cell_type": "code",
   "execution_count": 12,
   "metadata": {},
   "outputs": [
    {
     "data": {
      "text/plain": [
       "[0, 1, 4, 9, 16]"
      ]
     },
     "execution_count": 12,
     "metadata": {},
     "output_type": "execute_result"
    }
   ],
   "source": [
    "# 방법2\n",
    "sqr = lambda x:x*x\n",
    "list(map(sqr, range(5)))"
   ]
  },
  {
   "cell_type": "code",
   "execution_count": 13,
   "metadata": {},
   "outputs": [
    {
     "data": {
      "text/plain": [
       "[0, 1, 4, 9, 16]"
      ]
     },
     "execution_count": 13,
     "metadata": {},
     "output_type": "execute_result"
    }
   ],
   "source": [
    "# 방법3\n",
    "def sqr2(x):\n",
    "    return x*x\n",
    "list(map(sqr2, range(5)))"
   ]
  },
  {
   "cell_type": "code",
   "execution_count": 14,
   "metadata": {
    "scrolled": true
   },
   "outputs": [
    {
     "name": "stdout",
     "output_type": "stream",
     "text": [
      "[1210000, 1135000, 910000, 1360000, 2260000, 3010000]\n"
     ]
    }
   ],
   "source": [
    "# 문제 : 다음 출근 시간 데이터에 대하여 기본금 10000원 시간당 7500원의 급여를 계산하고 lambda 함수와 map함수를 이용하여 구하시오.\n",
    "\n",
    "# 방법 1\n",
    "total_time = [160,150,120,180,300,400]\n",
    "calc = lambda x : 10000 + 7500 * x\n",
    "pay = list(map(calc, total_time))\n",
    "print(pay)"
   ]
  },
  {
   "cell_type": "code",
   "execution_count": 15,
   "metadata": {},
   "outputs": [
    {
     "name": "stdout",
     "output_type": "stream",
     "text": [
      "[1210000, 1135000, 910000, 1360000, 2260000, 3010000]\n"
     ]
    }
   ],
   "source": [
    "# 방법 2\n",
    "pay = list(map(lambda x : 10000 + 7500 *x, total_time))\n",
    "print(pay)"
   ]
  },
  {
   "cell_type": "code",
   "execution_count": 16,
   "metadata": {},
   "outputs": [
    {
     "data": {
      "text/plain": [
       "[1, 3, 5, 7, 9]"
      ]
     },
     "execution_count": 16,
     "metadata": {},
     "output_type": "execute_result"
    }
   ],
   "source": [
    "# 홀수만 출력하기\n",
    "\n",
    "def odd(p):\n",
    "    return [i for i in p if i%2]   # 홀수\n",
    "odd(range(10))"
   ]
  },
  {
   "cell_type": "code",
   "execution_count": 25,
   "metadata": {},
   "outputs": [
    {
     "name": "stdout",
     "output_type": "stream",
     "text": [
      "[1, 3, 5, 7, 9, 11, 13, 15, 17, 19, 21, 23, 25, 27, 29, 31, 33, 35, 37, 39, 41, 43, 45, 47, 49, 51, 53, 55, 57, 59, 61, 63, 65, 67, 69, 71, 73, 75, 77, 79, 81, 83, 85, 87, 89, 91, 93, 95, 97, 99],"
     ]
    }
   ],
   "source": [
    "# 홀수만 출력하기 2\n",
    "# 필터의 함수는 True / False 를 리턴하는 함수여야 한다. \n",
    "\n",
    "def odd(k):\n",
    "    return k%2\n",
    "print(list(filter(odd, range(100))), end = \",\")"
   ]
  },
  {
   "cell_type": "code",
   "execution_count": 27,
   "metadata": {},
   "outputs": [
    {
     "name": "stdout",
     "output_type": "stream",
     "text": [
      "[3, 6, 9, 12, 15, 18, 21, 24, 27, 30, 33, 36, 39, 42, 45, 48, 51, 54, 57, 60, 63, 66, 69, 72, 75, 78, 81, 84, 87, 90, 93, 96, 99],"
     ]
    }
   ],
   "source": [
    "# 문제 \n",
    "# 1부터 99사이의 데이터중 3으로 나누어 떨어지는 데이터를 filter를 이용해 구하시오.\n",
    "\n",
    "def threetimes(t):\n",
    "    return t % 3 == 0\n",
    "print(list(filter(threetimes, range(1,100))), end = \",\")"
   ]
  },
  {
   "cell_type": "markdown",
   "metadata": {},
   "source": [
    "# reduce"
   ]
  },
  {
   "cell_type": "code",
   "execution_count": 28,
   "metadata": {},
   "outputs": [
    {
     "data": {
      "text/plain": [
       "55"
      ]
     },
     "execution_count": 28,
     "metadata": {},
     "output_type": "execute_result"
    }
   ],
   "source": [
    "# reduce (분산처리시 값을 계산할 때 사용)\n",
    "\n",
    "from functools import reduce\n",
    "reduce(lambda x, y:x+y, range(11))\n",
    "\n",
    "# 이전에 계산된 값이 x 로 들어가고 새로 수가 들어가는건 y 로 들어간다"
   ]
  },
  {
   "cell_type": "code",
   "execution_count": 29,
   "metadata": {},
   "outputs": [
    {
     "data": {
      "text/plain": [
       "362880"
      ]
     },
     "execution_count": 29,
     "metadata": {},
     "output_type": "execute_result"
    }
   ],
   "source": [
    "reduce(lambda x, y:x*y, range(1,10))"
   ]
  },
  {
   "cell_type": "code",
   "execution_count": 30,
   "metadata": {},
   "outputs": [
    {
     "data": {
      "text/plain": [
       "'edcba'"
      ]
     },
     "execution_count": 30,
     "metadata": {},
     "output_type": "execute_result"
    }
   ],
   "source": [
    "reduce(lambda x, y : y+x, 'abcde')   # 거꾸로 출력"
   ]
  },
  {
   "cell_type": "code",
   "execution_count": 31,
   "metadata": {},
   "outputs": [
    {
     "data": {
      "text/plain": [
       "5.0"
      ]
     },
     "execution_count": 31,
     "metadata": {},
     "output_type": "execute_result"
    }
   ],
   "source": [
    "# 함수 배열\n",
    "func_choice = [lambda x, y: x**y, lambda x, y : x/y]\n",
    "func_choice[0](10,2)\n",
    "func_choice[1](10,2)"
   ]
  },
  {
   "cell_type": "code",
   "execution_count": 32,
   "metadata": {},
   "outputs": [
    {
     "name": "stdout",
     "output_type": "stream",
     "text": [
      "[5, 6, 7, 8]\n"
     ]
    }
   ],
   "source": [
    "# 문제1) \n",
    "# 다음 데이터에서 4보다 큰 수만 출력하도록 filtering 해 보시오.\n",
    "\n",
    "data = [1,2,3,4,5,6,7,8,3,4,2,1]\n",
    "\n",
    "fil = list(filter(lambda x : x > 4, data))\n",
    "print(fil)"
   ]
  },
  {
   "cell_type": "code",
   "execution_count": 35,
   "metadata": {},
   "outputs": [
    {
     "name": "stdout",
     "output_type": "stream",
     "text": [
      "숫자를 입력하시오 : 5\n",
      "나는 행복합니다\n"
     ]
    }
   ],
   "source": [
    "# 문제 2)\n",
    "# 숫자를 입력 받아서 홀수인 경우는 \"나는 행복합니다\" 라고 출력하고 짝수인 경우는 \"나는 귀중한 사람이다\" 라고 출력하는 함수 선택을\n",
    "# 구현해 보시오.\n",
    "\n",
    "choice = [lambda: print(\"나는 귀중한 사람이다\"), lambda: print(\"나는 행복합니다\")]\n",
    "condition = eval(input(\"숫자를 입력하시오 : \"))\n",
    "condition %= 2\n",
    "choice[condition]()"
   ]
  },
  {
   "cell_type": "code",
   "execution_count": null,
   "metadata": {},
   "outputs": [],
   "source": [
    "## 문제 3)\n",
    "# 성적 프로그램을 입력, 처리, 출력 함수를 이용해서 구현하시오.\n",
    "# 이름, 국어, 영어, 수학, 총점, 평균\n",
    "\n",
    "final = []  \n",
    "for i in range (3):\n",
    "    def getinput():\n",
    "        sungjuk = []\n",
    "        name = input(\"이름을 입력하시오 : \")\n",
    "        kor = int(input(\"국어 성적을 입력하시오 : \"))\n",
    "        eng = int(input(\"영어 성적을 입력하시오 : \"))\n",
    "        math = int(input(\"수학 성적을 입력하시오 : \"))\n",
    "        sungjuk.append(name)\n",
    "        sungjuk.append(kor)\n",
    "        sungjuk.append(eng)\n",
    "        sungjuk.append(math)\n",
    "        return (name, kor, eng, math)\n",
    "\n",
    "    def score(sungjuk):\n",
    "        total = sungjuk[1]+sungjuk[2]+sungjuk[3]\n",
    "        avg = total/3\n",
    "        return (total, avg)\n",
    "\n",
    "    def display(sungjuk):\n",
    "        print(\"총점 : \", total, \"평균 : \", avg )\n",
    "   \n",
    "    def main():\n",
    "        name, kor, eng, math = getinput()\n",
    "        total, avg = score(fianl)\n",
    "        display(sungjuk)\n",
    "    main()\n",
    "return final"
   ]
  },
  {
   "cell_type": "code",
   "execution_count": null,
   "metadata": {},
   "outputs": [],
   "source": [
    "\n",
    "\n"
   ]
  },
  {
   "cell_type": "code",
   "execution_count": null,
   "metadata": {},
   "outputs": [],
   "source": []
  }
 ],
 "metadata": {
  "kernelspec": {
   "display_name": "Python 3",
   "language": "python",
   "name": "python3"
  },
  "language_info": {
   "codemirror_mode": {
    "name": "ipython",
    "version": 3
   },
   "file_extension": ".py",
   "mimetype": "text/x-python",
   "name": "python",
   "nbconvert_exporter": "python",
   "pygments_lexer": "ipython3",
   "version": "3.7.4"
  }
 },
 "nbformat": 4,
 "nbformat_minor": 2
}
